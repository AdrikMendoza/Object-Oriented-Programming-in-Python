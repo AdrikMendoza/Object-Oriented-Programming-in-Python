{
 "cells": [
  {
   "cell_type": "markdown",
   "id": "506e9413",
   "metadata": {},
   "source": [
    "# 1. OOP Fundamentals\n",
    "## Object Oriented Programming \n",
    "\n",
    "Procedural Programming\n",
    "\n",
    "> Code as a sequence of steps.\n",
    "\n",
    "> Great for data analysis. (Wrangling, process, and visualize)\n",
    "\n",
    "Object Oriented Programming\n",
    "\n",
    "> Code as interactions of objects.\n",
    "\n",
    "> Great for building frameworks an tools.\n",
    "\n",
    "> Maintainable and reusable code.\n",
    "\n",
    "#### Object and Classes\n",
    "\n",
    "> Encapsulation: The distinctive feature of OOP is that state and behavior are bundled together: We think of then as one unit representing a customer, employee, etc.\n",
    "\n",
    "> Classes are blueprints for objects outlining possible states and behaviors.\n",
    "\n",
    "> In python, everything is an object and every object has a class. \n",
    "\n",
    "OBJECTS: 5, \"Hello\", pd.DataFrame(), np.mean.\n",
    "\n",
    "CLASSES: int, str, DataFrame, function."
   ]
  },
  {
   "cell_type": "code",
   "execution_count": 3,
   "id": "e8b9f9f0",
   "metadata": {},
   "outputs": [
    {
     "name": "stdout",
     "output_type": "stream",
     "text": [
      "<class 'numpy.ndarray'>\n"
     ]
    }
   ],
   "source": [
    "import numpy as np\n",
    "a = np.array([1,2,3,4])\n",
    "print(type(a))"
   ]
  },
  {
   "cell_type": "markdown",
   "id": "926bc029",
   "metadata": {},
   "source": [
    "> The class of a is called \"n dimensional array\".\n",
    "\n",
    "#### Attributes and methods\n",
    "\n",
    "###### State <----> Attributes"
   ]
  },
  {
   "cell_type": "code",
   "execution_count": 4,
   "id": "bab9a517",
   "metadata": {},
   "outputs": [
    {
     "data": {
      "text/plain": [
       "(4,)"
      ]
     },
     "execution_count": 4,
     "metadata": {},
     "output_type": "execute_result"
    }
   ],
   "source": [
    "import numpy as np\n",
    "a = np.array([1,2,3,4])\n",
    "\n",
    "# shape attribute\n",
    "\n",
    "a.shape"
   ]
  },
  {
   "cell_type": "markdown",
   "id": "42104122",
   "metadata": {},
   "source": [
    "###### Behavior <----> Methods"
   ]
  },
  {
   "cell_type": "code",
   "execution_count": 5,
   "id": "8a8f6b22",
   "metadata": {},
   "outputs": [
    {
     "data": {
      "text/plain": [
       "array([[1, 2],\n",
       "       [3, 4]])"
      ]
     },
     "execution_count": 5,
     "metadata": {},
     "output_type": "execute_result"
    }
   ],
   "source": [
    "import numpy as np\n",
    "a = np.array([1,2,3,4])\n",
    "\n",
    "# reshape method\n",
    "\n",
    "a.reshape(2,2)"
   ]
  },
  {
   "cell_type": "markdown",
   "id": "e9150133",
   "metadata": {},
   "source": [
    "OBJECT = ATTRIBUTES + METHODS\n",
    "\n",
    "> Attribute (State) <----> variables == obj.my_attribute.\n",
    "\n",
    "> Method (Behavior) <----> function() == obj.my_method()."
   ]
  },
  {
   "cell_type": "code",
   "execution_count": 6,
   "id": "15f22d19",
   "metadata": {},
   "outputs": [
    {
     "data": {
      "text/plain": [
       "['T',\n",
       " '__abs__',\n",
       " '__add__',\n",
       " '__and__',\n",
       " '__array__',\n",
       " '__array_finalize__',\n",
       " '__array_function__',\n",
       " '__array_interface__',\n",
       " '__array_prepare__',\n",
       " '__array_priority__',\n",
       " '__array_struct__',\n",
       " '__array_ufunc__',\n",
       " '__array_wrap__',\n",
       " '__bool__',\n",
       " '__class__',\n",
       " '__complex__',\n",
       " '__contains__',\n",
       " '__copy__',\n",
       " '__deepcopy__',\n",
       " '__delattr__',\n",
       " '__delitem__',\n",
       " '__dir__',\n",
       " '__divmod__',\n",
       " '__doc__',\n",
       " '__eq__',\n",
       " '__float__',\n",
       " '__floordiv__',\n",
       " '__format__',\n",
       " '__ge__',\n",
       " '__getattribute__',\n",
       " '__getitem__',\n",
       " '__gt__',\n",
       " '__hash__',\n",
       " '__iadd__',\n",
       " '__iand__',\n",
       " '__ifloordiv__',\n",
       " '__ilshift__',\n",
       " '__imatmul__',\n",
       " '__imod__',\n",
       " '__imul__',\n",
       " '__index__',\n",
       " '__init__',\n",
       " '__init_subclass__',\n",
       " '__int__',\n",
       " '__invert__',\n",
       " '__ior__',\n",
       " '__ipow__',\n",
       " '__irshift__',\n",
       " '__isub__',\n",
       " '__iter__',\n",
       " '__itruediv__',\n",
       " '__ixor__',\n",
       " '__le__',\n",
       " '__len__',\n",
       " '__lshift__',\n",
       " '__lt__',\n",
       " '__matmul__',\n",
       " '__mod__',\n",
       " '__mul__',\n",
       " '__ne__',\n",
       " '__neg__',\n",
       " '__new__',\n",
       " '__or__',\n",
       " '__pos__',\n",
       " '__pow__',\n",
       " '__radd__',\n",
       " '__rand__',\n",
       " '__rdivmod__',\n",
       " '__reduce__',\n",
       " '__reduce_ex__',\n",
       " '__repr__',\n",
       " '__rfloordiv__',\n",
       " '__rlshift__',\n",
       " '__rmatmul__',\n",
       " '__rmod__',\n",
       " '__rmul__',\n",
       " '__ror__',\n",
       " '__rpow__',\n",
       " '__rrshift__',\n",
       " '__rshift__',\n",
       " '__rsub__',\n",
       " '__rtruediv__',\n",
       " '__rxor__',\n",
       " '__setattr__',\n",
       " '__setitem__',\n",
       " '__setstate__',\n",
       " '__sizeof__',\n",
       " '__str__',\n",
       " '__sub__',\n",
       " '__subclasshook__',\n",
       " '__truediv__',\n",
       " '__xor__',\n",
       " 'all',\n",
       " 'any',\n",
       " 'argmax',\n",
       " 'argmin',\n",
       " 'argpartition',\n",
       " 'argsort',\n",
       " 'astype',\n",
       " 'base',\n",
       " 'byteswap',\n",
       " 'choose',\n",
       " 'clip',\n",
       " 'compress',\n",
       " 'conj',\n",
       " 'conjugate',\n",
       " 'copy',\n",
       " 'ctypes',\n",
       " 'cumprod',\n",
       " 'cumsum',\n",
       " 'data',\n",
       " 'diagonal',\n",
       " 'dot',\n",
       " 'dtype',\n",
       " 'dump',\n",
       " 'dumps',\n",
       " 'fill',\n",
       " 'flags',\n",
       " 'flat',\n",
       " 'flatten',\n",
       " 'getfield',\n",
       " 'imag',\n",
       " 'item',\n",
       " 'itemset',\n",
       " 'itemsize',\n",
       " 'max',\n",
       " 'mean',\n",
       " 'min',\n",
       " 'nbytes',\n",
       " 'ndim',\n",
       " 'newbyteorder',\n",
       " 'nonzero',\n",
       " 'partition',\n",
       " 'prod',\n",
       " 'ptp',\n",
       " 'put',\n",
       " 'ravel',\n",
       " 'real',\n",
       " 'repeat',\n",
       " 'reshape',\n",
       " 'resize',\n",
       " 'round',\n",
       " 'searchsorted',\n",
       " 'setfield',\n",
       " 'setflags',\n",
       " 'shape',\n",
       " 'size',\n",
       " 'sort',\n",
       " 'squeeze',\n",
       " 'std',\n",
       " 'strides',\n",
       " 'sum',\n",
       " 'swapaxes',\n",
       " 'take',\n",
       " 'tobytes',\n",
       " 'tofile',\n",
       " 'tolist',\n",
       " 'tostring',\n",
       " 'trace',\n",
       " 'transpose',\n",
       " 'var',\n",
       " 'view']"
      ]
     },
     "execution_count": 6,
     "metadata": {},
     "output_type": "execute_result"
    }
   ],
   "source": [
    "# dir() <--- List all the attributes and methods\n",
    "\n",
    "dir(a)"
   ]
  },
  {
   "cell_type": "markdown",
   "id": "e9641937",
   "metadata": {},
   "source": [
    "> Classes and objects both have attributes and methods, but the difference is that a class is an abstract template, while an object is a concrete representation of a class.\n",
    "\n",
    "## Class anatomy: attributes and methods\n",
    "\n"
   ]
  },
  {
   "cell_type": "code",
   "execution_count": 7,
   "id": "0c275253",
   "metadata": {},
   "outputs": [],
   "source": [
    "# Empty Class\n",
    "class Customer:\n",
    "    pass\n",
    "\n",
    "# c1 and c2 are two different objects of the empty class Customer\n",
    "c1 = Customer()\n",
    "c2 = Customer()"
   ]
  },
  {
   "cell_type": "code",
   "execution_count": 9,
   "id": "47277539",
   "metadata": {},
   "outputs": [
    {
     "name": "stdout",
     "output_type": "stream",
     "text": [
      "I am Customer Laura\n"
     ]
    }
   ],
   "source": [
    "# Defining a method\n",
    "class Customer:\n",
    "    \n",
    "    def identify(self, name): # Use self as the 1st argument in method definition\n",
    "        print(\"I am Customer \" + name)\n",
    "        \n",
    "cust = Customer()\n",
    "cust.identify(\"Laura\")"
   ]
  },
  {
   "cell_type": "markdown",
   "id": "00108775",
   "metadata": {},
   "source": [
    "###### What is self?\n",
    "\n",
    "> Classes are templates, how to refer data of a particular object.\n",
    "\n",
    "> \"self\" is a stand-in for a particular object used in class definition.\n",
    "\n",
    "> Python will take care of \"self\": \"cust.identify(\"Laura\")\" will be the same as \"Customer.identify(cust, \"Laura\")\"\n",
    "\n",
    "###### Attributes are created by assignment (=) in methods"
   ]
  },
  {
   "cell_type": "code",
   "execution_count": 10,
   "id": "4a046687",
   "metadata": {},
   "outputs": [],
   "source": [
    "class Customer:\n",
    "    # set the name attribute of an object to new_name\n",
    "    def set_name(self, new_name): # set_name method\n",
    "        # create an attribute by assigning a value\n",
    "        self.name = new_name # <--- will create .name when set_name is called"
   ]
  },
  {
   "cell_type": "code",
   "execution_count": 11,
   "id": "243e6239",
   "metadata": {},
   "outputs": [
    {
     "name": "stdout",
     "output_type": "stream",
     "text": [
      "Lara de Silva\n"
     ]
    }
   ],
   "source": [
    "cust = Customer()              # <--- .name doesn't exist here yet.\n",
    "cust.set_name(\"Lara de Silva\") # <--- .name is created and set to \"Lara de Silva\"\n",
    "print(cust.name)               # <--- .name can be used"
   ]
  },
  {
   "cell_type": "code",
   "execution_count": 14,
   "id": "a7dba0ec",
   "metadata": {},
   "outputs": [
    {
     "name": "stdout",
     "output_type": "stream",
     "text": [
      "I am Customer Lara de Silva\n"
     ]
    },
    {
     "data": {
      "text/plain": [
       "'Lara de Silva'"
      ]
     },
     "execution_count": 14,
     "metadata": {},
     "output_type": "execute_result"
    }
   ],
   "source": [
    "# RESULT\n",
    "\n",
    "class Customer:\n",
    "    def set_name(self, new_name): \n",
    "        self.name = new_name\n",
    "    \n",
    "    def identify(self):\n",
    "        print(\"I am Customer \" + self.name)\n",
    "        \n",
    "cust = Customer()\n",
    "cust.set_name(\"Lara de Silva\")\n",
    "cust.identify()\n",
    "cust.name"
   ]
  },
  {
   "cell_type": "markdown",
   "id": "3bb87e64",
   "metadata": {},
   "source": [
    "### Understanding class definitions\n",
    "\n"
   ]
  },
  {
   "cell_type": "code",
   "execution_count": 15,
   "id": "93115f7f",
   "metadata": {},
   "outputs": [
    {
     "name": "stdout",
     "output_type": "stream",
     "text": [
      "6\n"
     ]
    }
   ],
   "source": [
    "class MyCounter:\n",
    "    def set_count(self, n):\n",
    "        self.count = n\n",
    "        \n",
    "mc = MyCounter()\n",
    "mc.set_count(5)\n",
    "mc.count = mc.count + 1\n",
    "print(mc.count)"
   ]
  },
  {
   "cell_type": "markdown",
   "id": "f2ece910",
   "metadata": {},
   "source": [
    "### Create your first class\n"
   ]
  },
  {
   "cell_type": "code",
   "execution_count": 18,
   "id": "8fba68f6",
   "metadata": {},
   "outputs": [],
   "source": [
    "class Employee:\n",
    "\n",
    "    def set_name(self, new_name):\n",
    "        self.name = new_name\n",
    "  \n",
    "      # Add set_salary() method\n",
    "    def set_salary(self, new_salary):\n",
    "        self.salary = new_salary"
   ]
  },
  {
   "cell_type": "code",
   "execution_count": 19,
   "id": "70501254",
   "metadata": {},
   "outputs": [
    {
     "name": "stdout",
     "output_type": "stream",
     "text": [
      "Korel Rossi\n"
     ]
    }
   ],
   "source": [
    "# Create an object emp of class Employee  \n",
    "emp = Employee()\n",
    "\n",
    "# Use set_name() on emp to set the name of emp to 'Korel Rossi'\n",
    "emp.set_name('Korel Rossi')\n",
    "\n",
    "# Print the name of emp\n",
    "print(emp.name)"
   ]
  },
  {
   "cell_type": "code",
   "execution_count": 21,
   "id": "460f43e6",
   "metadata": {},
   "outputs": [
    {
     "name": "stdout",
     "output_type": "stream",
     "text": [
      "50000\n"
     ]
    }
   ],
   "source": [
    "# Set the salary of emp to 50000\n",
    "emp.set_salary(50000)\n",
    "\n",
    "print(emp.salary)"
   ]
  },
  {
   "cell_type": "markdown",
   "id": "0db07d51",
   "metadata": {},
   "source": [
    "### Using attributes in class definition\n"
   ]
  },
  {
   "cell_type": "code",
   "execution_count": 22,
   "id": "99109f30",
   "metadata": {},
   "outputs": [
    {
     "name": "stdout",
     "output_type": "stream",
     "text": [
      "51500\n"
     ]
    }
   ],
   "source": [
    "# Increase salary of emp by 1500\n",
    "emp.salary = emp.salary + 1500\n",
    "\n",
    "# Print the salary attribute of emp again\n",
    "print(emp.salary)"
   ]
  },
  {
   "cell_type": "code",
   "execution_count": 27,
   "id": "af73243c",
   "metadata": {},
   "outputs": [],
   "source": [
    "class Employee:\n",
    "    def set_name(self, new_name):\n",
    "        self.name = new_name\n",
    "\n",
    "    def set_salary(self, new_salary):\n",
    "        self.salary = new_salary \n",
    "\n",
    "    def give_raise(self, amount):\n",
    "        self.salary = self.salary + amount\n",
    "\n",
    "    # Add monthly_salary method that returns 1/12th of salary attribute\n",
    "    def monthly_salary(self):\n",
    "        return self.salary  / 12"
   ]
  },
  {
   "cell_type": "code",
   "execution_count": 28,
   "id": "ab66a901",
   "metadata": {},
   "outputs": [
    {
     "name": "stdout",
     "output_type": "stream",
     "text": [
      "50000\n",
      "51500\n"
     ]
    }
   ],
   "source": [
    "emp = Employee()\n",
    "emp.set_name('Korel Rossi')\n",
    "emp.set_salary(50000)\n",
    "\n",
    "print(emp.salary)\n",
    "emp.give_raise(1500)\n",
    "print(emp.salary)"
   ]
  },
  {
   "cell_type": "code",
   "execution_count": 29,
   "id": "85c5fabc",
   "metadata": {},
   "outputs": [
    {
     "name": "stdout",
     "output_type": "stream",
     "text": [
      "4291.666666666667\n"
     ]
    }
   ],
   "source": [
    "# Get monthly salary of emp and assign to mon_sal\n",
    "mon_sal = emp.monthly_salary()\n",
    "\n",
    "# Print mon_sal\n",
    "print(mon_sal)"
   ]
  },
  {
   "cell_type": "markdown",
   "id": "5bc2779d",
   "metadata": {},
   "source": [
    "## Class anatomy: the __init__ constructor\n",
    "\n",
    "> Constructor __init__() method is called every time an object is created."
   ]
  },
  {
   "cell_type": "code",
   "execution_count": 34,
   "id": "80473968",
   "metadata": {},
   "outputs": [
    {
     "name": "stdout",
     "output_type": "stream",
     "text": [
      "The __init__ method was called...\n",
      "Lara de Silva\n",
      "0\n"
     ]
    }
   ],
   "source": [
    "class Customer:\n",
    "    def __init__(self, name, balance=0):\n",
    "        self.name = name\n",
    "        self.balance = balance\n",
    "        print(\"The __init__ method was called...\")\n",
    "\n",
    "cust = Customer(\"Lara de Silva\")\n",
    "print(cust.name)\n",
    "print(cust.balance)"
   ]
  },
  {
   "cell_type": "markdown",
   "id": "c69bda29",
   "metadata": {},
   "source": [
    "###### Best Practices\n",
    "\n",
    "> Initialize attributes in __init__()\n",
    "\n",
    "> Use CamelCase for class, and lower_snake_case for functions and attributes.\n",
    "\n",
    "> Keep self as self.\n",
    "\n",
    "> Use \"\"\"Docstrings\"\"\".\n",
    "\n",
    "### Add a class constructor\n"
   ]
  },
  {
   "cell_type": "code",
   "execution_count": 40,
   "id": "ec38f842",
   "metadata": {},
   "outputs": [
    {
     "name": "stdout",
     "output_type": "stream",
     "text": [
      "Invalid salary!\n",
      "Korel Rossi\n",
      "0\n"
     ]
    }
   ],
   "source": [
    "from datetime import datetime\n",
    "\n",
    "class Employee:\n",
    "    # Create __init__() method\n",
    "    def __init__(self, name, salary=0):\n",
    "        \n",
    "        # Create the name and salary attributes\n",
    "        self.name = name\n",
    "        \n",
    "        # Modify code below to check if salary is positive\n",
    "        if salary > 0:\n",
    "            self.salary = salary\n",
    "        else:\n",
    "            self.salary = 0\n",
    "            print(\"Invalid salary!\")\n",
    "            \n",
    "        # Add the hire_date attribute and set it to today's date\n",
    "        self.hire_date = datetime.today()\n",
    "    \n",
    "    # From the previous lesson\n",
    "    def give_raise(self, amount):\n",
    "        self.salary += amount\n",
    "\n",
    "    def monthly_salary(self):\n",
    "        return self.salary/12\n",
    "        \n",
    "emp = Employee(\"Korel Rossi\")\n",
    "print(emp.name)\n",
    "print(emp.salary)     "
   ]
  },
  {
   "cell_type": "code",
   "execution_count": 38,
   "id": "541b06de",
   "metadata": {},
   "outputs": [
    {
     "name": "stdout",
     "output_type": "stream",
     "text": [
      "Invalid salary!\n",
      "Korel Rossi\n",
      "0\n"
     ]
    }
   ],
   "source": [
    "emp = Employee(\"Korel Rossi\", -1000)\n",
    "print(emp.name)\n",
    "print(emp.salary)"
   ]
  },
  {
   "cell_type": "code",
   "execution_count": 41,
   "id": "9d0fb0b1",
   "metadata": {},
   "outputs": [
    {
     "name": "stdout",
     "output_type": "stream",
     "text": [
      "2022-08-05 12:04:11.749619\n"
     ]
    }
   ],
   "source": [
    "print(emp.hire_date)"
   ]
  },
  {
   "cell_type": "markdown",
   "id": "5e159639",
   "metadata": {},
   "source": [
    "### Write a class from scratch\n",
    "Define the class Point that has:\n",
    "\n",
    "> Two attributes, x and y - the coordinates of the point on the plane;\n",
    "\n",
    "> A constructor that accepts two arguments, x and y, that initialize the corresponding attributes. These arguments should have default value of 0.0;\n",
    "\n",
    "> A method distance_to_origin() that returns the distance from the point to the origin. The formula for that is np.sqrt(self.x**2 + self.y**2).\n",
    "\n",
    "> A method reflect(), that reflects the point with respect to the x- or y-axis:\n",
    "        \n",
    "        > accepts one argument axis,\n",
    "        > if axis=\"x\" , it sets the y (not a typo!) attribute to the negative value of the y attribute,\n",
    "        > if axis=\"y\", it sets the x attribute to the negative value of the x attribute,\n",
    "        > for any other value of axis, prints an error message.\n"
   ]
  },
  {
   "cell_type": "code",
   "execution_count": 42,
   "id": "188de3c7",
   "metadata": {},
   "outputs": [],
   "source": [
    "import numpy as np\n",
    "\n",
    "# Write the class Point as outlined in the instructions\n",
    "class Point:\n",
    "    \"\"\" A point on a 2D plane\n",
    "    \n",
    "   Attributes\n",
    "    ----------\n",
    "    x : float, default 0.0. The x coordinate of the point        \n",
    "    y : float, default 0.0. The y coordinate of the point\n",
    "    \"\"\"\n",
    "    def __init__(self, x=0.0, y=0.0):\n",
    "        self.x = x\n",
    "        self.y = y\n",
    "\n",
    "    def distance_to_origin(self):\n",
    "        \"\"\"Calculate distance from the point to the origin (0,0)\"\"\"\n",
    "        return np.sqrt(self.x**2 + self.y**2)\n",
    "\n",
    "    def reflect(self, axis):\n",
    "        \"\"\"Reflect the point with respect to x or y axis.\"\"\"\n",
    "        if axis == \"x\":\n",
    "            self.y = - self.y \n",
    "        if axis == \"y\":\n",
    "            self.x = - self.x\n",
    "        else:\n",
    "            print(\"The argument axis only accepts values 'x' and 'y'!\")"
   ]
  },
  {
   "cell_type": "code",
   "execution_count": 43,
   "id": "e6b8c6c7",
   "metadata": {},
   "outputs": [
    {
     "name": "stdout",
     "output_type": "stream",
     "text": [
      "(-3.0, 0.0)\n",
      "5.0\n"
     ]
    }
   ],
   "source": [
    "pt = Point(x=3.0)\n",
    "pt.reflect(\"y\")\n",
    "print((pt.x, pt.y))\n",
    "pt.y = 4.0\n",
    "print(pt.distance_to_origin())"
   ]
  },
  {
   "cell_type": "markdown",
   "id": "aea68dda",
   "metadata": {},
   "source": [
    "# 2. Inheritance and Polymorphism\n",
    "## Instance and class data\n",
    "\n",
    "##### Core Principles of OOP\n",
    "\n",
    "> Inheritance: Extending functionality of existing code.\n",
    "\n",
    "> Polymorphism: Creating a unified interface.\n",
    "\n",
    "> Encapsulation: Bundling of data and methods.\n",
    "\n",
    "\n",
    "#### Class-Level Data\n",
    "\n",
    "> MIN_SALARY is shared among all intances.\n",
    "\n",
    "> Don't use self to define class attribute.\n",
    "\n",
    "> Use ClassName.ATTR_NAME to access the class attribute value."
   ]
  },
  {
   "cell_type": "code",
   "execution_count": 44,
   "id": "151c5ea3",
   "metadata": {},
   "outputs": [],
   "source": [
    "class Employee:\n",
    "    \n",
    "    # Define a class attribute\n",
    "    MIN_SALARY = 30000 # <--- No self.\n",
    "    \n",
    "    def __init__(self, name, salary):\n",
    "        self.name = name\n",
    "        \n",
    "        # Use class name to access class attribute\n",
    "        if salary >= Employee.MIN_SALARY:\n",
    "            self.salary = salary\n",
    "        else:\n",
    "            self.salary = Employee.MIN_SALARY"
   ]
  },
  {
   "cell_type": "code",
   "execution_count": 45,
   "id": "4a916cf3",
   "metadata": {},
   "outputs": [
    {
     "name": "stdout",
     "output_type": "stream",
     "text": [
      "30000\n"
     ]
    }
   ],
   "source": [
    "emp1 = Employee(\"TBD\", 40000)\n",
    "print(emp1.MIN_SALARY)"
   ]
  },
  {
   "cell_type": "code",
   "execution_count": 46,
   "id": "57fcd50d",
   "metadata": {},
   "outputs": [
    {
     "name": "stdout",
     "output_type": "stream",
     "text": [
      "30000\n"
     ]
    }
   ],
   "source": [
    "emp2 = Employee(\"TBD\", 60000)\n",
    "print(emp2.MIN_SALARY)"
   ]
  },
  {
   "cell_type": "markdown",
   "id": "47a7982e",
   "metadata": {},
   "source": [
    "> CLASS ATTRIBUTES: Are global contants related to class.\n",
    "\n",
    "> CLASS METHODS: Can't use instance-level data. We use \"cls\" intead of \"self\"."
   ]
  },
  {
   "cell_type": "code",
   "execution_count": 47,
   "id": "9b8b233e",
   "metadata": {},
   "outputs": [],
   "source": [
    "class Employee:\n",
    "    \n",
    "    # Define a class attribute\n",
    "    MIN_SALARY = 30000 # <--- No self.\n",
    "    \n",
    "    def __init__(self, name, salary): # <--- Can only have 1 __init__() constructor.\n",
    "        self.name = name\n",
    "        \n",
    "        # Use class name to access class attribute\n",
    "        if salary >= Employee.MIN_SALARY:\n",
    "            self.salary = salary\n",
    "        else:\n",
    "            self.salary = Employee.MIN_SALARY\n",
    "            \n",
    "    @classmethod # <--- Use class methods to create objects.\n",
    "    \n",
    "    def from_file(cls, filename):\n",
    "        with open(filename, \"r\") as f:\n",
    "            name = f.readline()\n",
    "        return cls(name) # <--- Use return to return an object. cls(...) will call the __init__(...) constructor."
   ]
  },
  {
   "cell_type": "markdown",
   "id": "43335c2a",
   "metadata": {},
   "source": [
    "### Class-level attributes\n",
    "You are a game developer working on a game that will have several players moving on a grid and interacting with each other. As the first step, you want to define a Player class that will just move along a straight line. Player will have a position attribute and a move() method. The grid is limited, so the position of Player will have a maximal value."
   ]
  },
  {
   "cell_type": "code",
   "execution_count": 51,
   "id": "849aa0ce",
   "metadata": {},
   "outputs": [],
   "source": [
    "class Player:\n",
    "    MAX_POSITION = 10\n",
    "    MAX_SPEED = 3\n",
    "    def __init__(self):\n",
    "        self.position = 0\n",
    "\n",
    "    # Add a move() method with steps parameter     \n",
    "    def move(self, steps):\n",
    "        if self.position + steps < Player.MAX_POSITION:\n",
    "           self.position = self.position + steps \n",
    "        else:\n",
    "           self.position = Player.MAX_POSITION\n",
    "    \n",
    "    # This method provides a rudimentary visualization in the console    \n",
    "    def draw(self):\n",
    "        drawing = \"-\" * self.position + \"|\" +\"-\"*(Player.MAX_POSITION - self.position)\n",
    "        print(drawing)"
   ]
  },
  {
   "cell_type": "code",
   "execution_count": 52,
   "id": "0992c623",
   "metadata": {},
   "outputs": [
    {
     "name": "stdout",
     "output_type": "stream",
     "text": [
      "10\n"
     ]
    }
   ],
   "source": [
    "# Create a player p and print its MAX_POSITITON\n",
    "p = Player()\n",
    "print(p.MAX_POSITION)"
   ]
  },
  {
   "cell_type": "code",
   "execution_count": 53,
   "id": "a17f8185",
   "metadata": {},
   "outputs": [
    {
     "name": "stdout",
     "output_type": "stream",
     "text": [
      "|----------\n",
      "----|------\n",
      "---------|-\n",
      "----------|\n"
     ]
    }
   ],
   "source": [
    "p = Player(); p.draw()\n",
    "p.move(4); p.draw()\n",
    "p.move(5); p.draw()\n",
    "p.move(3); p.draw()"
   ]
  },
  {
   "cell_type": "markdown",
   "id": "d6548077",
   "metadata": {},
   "source": [
    "### Changing class attributes\n"
   ]
  },
  {
   "cell_type": "code",
   "execution_count": 54,
   "id": "b29b52c0",
   "metadata": {},
   "outputs": [
    {
     "name": "stdout",
     "output_type": "stream",
     "text": [
      "MAX_SPEED of p1 and p2 before assignment:\n",
      "3\n",
      "3\n"
     ]
    }
   ],
   "source": [
    "# Create Players p1 and p2\n",
    "p1 = Player()\n",
    "p2 = Player()\n",
    "\n",
    "print(\"MAX_SPEED of p1 and p2 before assignment:\")\n",
    "# Print p1.MAX_SPEED and p2.MAX_SPEED\n",
    "print(p1.MAX_SPEED)\n",
    "print(p2.MAX_SPEED)"
   ]
  },
  {
   "cell_type": "code",
   "execution_count": 57,
   "id": "e319b734",
   "metadata": {},
   "outputs": [
    {
     "name": "stdout",
     "output_type": "stream",
     "text": [
      "MAX_SPEED of p1 and p2 after assignment:\n",
      "7\n",
      "7\n"
     ]
    }
   ],
   "source": [
    "# Assign 7 to p1.MAX_SPEED\n",
    "Player.MAX_SPEED = 7\n",
    "\n",
    "print(\"MAX_SPEED of p1 and p2 after assignment:\")\n",
    "# Print p1.MAX_SPEED and p2.MAX_SPEED\n",
    "print(p1.MAX_SPEED)\n",
    "print(p2.MAX_SPEED)"
   ]
  },
  {
   "cell_type": "code",
   "execution_count": 58,
   "id": "d701483d",
   "metadata": {},
   "outputs": [
    {
     "name": "stdout",
     "output_type": "stream",
     "text": [
      "MAX_SPEED of Player:\n",
      "7\n"
     ]
    }
   ],
   "source": [
    "print(\"MAX_SPEED of Player:\")\n",
    "# Print Player.MAX_SPEED\n",
    "print(Player.MAX_SPEED)"
   ]
  },
  {
   "cell_type": "markdown",
   "id": "c629d9d7",
   "metadata": {},
   "source": [
    "### Alternative constructors\n",
    "You are developing a time series package and want to define your own class for working with dates, BetterDate. The attributes of the class will be year, month, and day. You want to have a constructor that creates BetterDate objects given the values for year, month, and day, but you also want to be able to create BetterDate objects from strings like 2020-04-30.\n",
    "\n"
   ]
  },
  {
   "cell_type": "code",
   "execution_count": 59,
   "id": "09efdd6d",
   "metadata": {},
   "outputs": [
    {
     "name": "stdout",
     "output_type": "stream",
     "text": [
      "2020\n",
      "4\n",
      "30\n"
     ]
    }
   ],
   "source": [
    "class BetterDate:    \n",
    "    # Constructor\n",
    "    def __init__(self, year, month, day):\n",
    "      # Recall that Python allows multiple variable assignments in one line\n",
    "      self.year, self.month, self.day = year, month, day\n",
    "    \n",
    "    # Define a class method from_str\n",
    "    @classmethod\n",
    "    def from_str(cls, datestr):\n",
    "        # Split the string at \"-\" and convert each part to integer\n",
    "        parts = datestr.split(\"-\")\n",
    "        year, month, day = int(parts[0]), int(parts[1]), int(parts[2])\n",
    "        # Return the class instance\n",
    "        return cls(year, month, day)\n",
    "        \n",
    "bd = BetterDate.from_str('2020-04-30')   \n",
    "print(bd.year)\n",
    "print(bd.month)\n",
    "print(bd.day)"
   ]
  },
  {
   "cell_type": "code",
   "execution_count": 60,
   "id": "4a04ef0c",
   "metadata": {},
   "outputs": [],
   "source": [
    "# import datetime from datetime\n",
    "from datetime import datetime\n",
    "\n",
    "class BetterDate:\n",
    "    def __init__(self, year, month, day):\n",
    "      self.year, self.month, self.day = year, month, day\n",
    "      \n",
    "    @classmethod\n",
    "    def from_str(cls, datestr):\n",
    "        year, month, day = map(int, datestr.split(\"-\"))\n",
    "        return cls(year, month, day)\n",
    "      \n",
    "    # Define a class method from_datetime accepting a datetime object\n",
    "    @classmethod\n",
    "    def from_datetime(cls, dateobj):\n",
    "        year, month, day = dateobj.year, dateobj.month, dateobj.day\n",
    "        return cls(year, month, day) "
   ]
  },
  {
   "cell_type": "code",
   "execution_count": 63,
   "id": "8661bc13",
   "metadata": {},
   "outputs": [
    {
     "name": "stdout",
     "output_type": "stream",
     "text": [
      "2022\n",
      "8\n",
      "5\n"
     ]
    }
   ],
   "source": [
    "# You should be able to run the code below with no errors: \n",
    "today = datetime.today()     \n",
    "bd = BetterDate.from_datetime(today)   \n",
    "print(bd.year)\n",
    "print(bd.month)\n",
    "print(bd.day)"
   ]
  },
  {
   "cell_type": "markdown",
   "id": "3ba69d4d",
   "metadata": {},
   "source": [
    "## Class inheritance\n",
    "\n",
    "1. Someone has already solved the problem that you are solving.\n",
    "\n",
    "2. DRY: Don't Repeat Yourself\n",
    "\n",
    "CLASS INHERITANCE: It is a mechanism by which we can define a new class that gets all the functionality of another class. Plus, adding something extra without re-implementing the code.\n",
    "\n",
    "#### Implementing class inheritance"
   ]
  },
  {
   "cell_type": "code",
   "execution_count": 69,
   "id": "ad2a264c",
   "metadata": {},
   "outputs": [],
   "source": [
    "class BankAccount: # class MyChild(MyParent):\n",
    "    def __init__(self, balance):    \n",
    "        self.balance = balance\n",
    "        \n",
    "    def withdraw(self, amount):\n",
    "        self.balance -= amount\n",
    "        \n",
    "class SavingsAccount(BankAccount):    # MyParent (BankAccount): Class whose functionality is being extended/inherited.\n",
    "    pass                              # MyChild (SavingsAccount): Class that will inherit the functionality and add more."
   ]
  },
  {
   "cell_type": "markdown",
   "id": "61423a36",
   "metadata": {},
   "source": [
    "> Child class has all of the parent data."
   ]
  },
  {
   "cell_type": "code",
   "execution_count": 70,
   "id": "dab82b9f",
   "metadata": {},
   "outputs": [
    {
     "data": {
      "text/plain": [
       "__main__.SavingsAccount"
      ]
     },
     "execution_count": 70,
     "metadata": {},
     "output_type": "execute_result"
    }
   ],
   "source": [
    "# Constructor inherited from BankAccount\n",
    "saving_acct = SavingsAccount(1000)\n",
    "type(saving_acct)"
   ]
  },
  {
   "cell_type": "code",
   "execution_count": 71,
   "id": "f6beec00",
   "metadata": {},
   "outputs": [
    {
     "data": {
      "text/plain": [
       "1000"
      ]
     },
     "execution_count": 71,
     "metadata": {},
     "output_type": "execute_result"
    }
   ],
   "source": [
    "# Attribute inherited from BankAccount\n",
    "saving_acct.balance"
   ]
  },
  {
   "cell_type": "code",
   "execution_count": 72,
   "id": "7b065228",
   "metadata": {},
   "outputs": [
    {
     "data": {
      "text/plain": [
       "700"
      ]
     },
     "execution_count": 72,
     "metadata": {},
     "output_type": "execute_result"
    }
   ],
   "source": [
    "# Method inherited from BankAccount\n",
    "saving_acct.withdraw(300)\n",
    "saving_acct.balance"
   ]
  },
  {
   "cell_type": "markdown",
   "id": "9b83b331",
   "metadata": {},
   "source": [
    "#### Inheritance: \"is-a\" relationship\n",
    "\n",
    "> A SavingsAccount is a BankAccount\n",
    "(Posibly with special features)"
   ]
  },
  {
   "cell_type": "code",
   "execution_count": 73,
   "id": "a538f38e",
   "metadata": {},
   "outputs": [
    {
     "data": {
      "text/plain": [
       "True"
      ]
     },
     "execution_count": 73,
     "metadata": {},
     "output_type": "execute_result"
    }
   ],
   "source": [
    "saving_acct = SavingsAccount(1000)\n",
    "isinstance(saving_acct, SavingsAccount)"
   ]
  },
  {
   "cell_type": "code",
   "execution_count": 74,
   "id": "df70dee5",
   "metadata": {},
   "outputs": [
    {
     "data": {
      "text/plain": [
       "True"
      ]
     },
     "execution_count": 74,
     "metadata": {},
     "output_type": "execute_result"
    }
   ],
   "source": [
    "isinstance(saving_acct, BankAccount)"
   ]
  },
  {
   "cell_type": "markdown",
   "id": "24a195ed",
   "metadata": {},
   "source": [
    "###### It is not the case for a generic BankAccount object."
   ]
  },
  {
   "cell_type": "code",
   "execution_count": 76,
   "id": "63797714",
   "metadata": {},
   "outputs": [
    {
     "data": {
      "text/plain": [
       "False"
      ]
     },
     "execution_count": 76,
     "metadata": {},
     "output_type": "execute_result"
    }
   ],
   "source": [
    "acct = BankAccount(500)\n",
    "isinstance(acct, SavingsAccount)"
   ]
  },
  {
   "cell_type": "code",
   "execution_count": 77,
   "id": "a958796c",
   "metadata": {},
   "outputs": [
    {
     "data": {
      "text/plain": [
       "True"
      ]
     },
     "execution_count": 77,
     "metadata": {},
     "output_type": "execute_result"
    }
   ],
   "source": [
    "isinstance(acct, BankAccount)"
   ]
  },
  {
   "cell_type": "markdown",
   "id": "d7c469a1",
   "metadata": {},
   "source": [
    "### Create a subclass\n"
   ]
  },
  {
   "cell_type": "code",
   "execution_count": 78,
   "id": "e0d06781",
   "metadata": {},
   "outputs": [],
   "source": [
    "class Employee:\n",
    "    \n",
    "    MIN_SALARY = 30000  \n",
    "    \n",
    "    def __init__(self, name, salary=MIN_SALARY):\n",
    "        \n",
    "        self.name = name\n",
    "        \n",
    "        if salary >= Employee.MIN_SALARY:\n",
    "            self.salary = salary\n",
    "        else:\n",
    "            self.salary = Employee.MIN_SALARY\n",
    "    \n",
    "    def give_raise(self, amount):\n",
    "        self.salary += amount      \n",
    "        \n",
    "# MODIFY Manager class and add a display method\n",
    "class Manager(Employee):\n",
    "    def display(self):\n",
    "        print(\"Manager \" + self.name)"
   ]
  },
  {
   "cell_type": "code",
   "execution_count": 80,
   "id": "fd1e980d",
   "metadata": {},
   "outputs": [
    {
     "name": "stdout",
     "output_type": "stream",
     "text": [
      "Debbie Lashko\n",
      "86500\n",
      "Manager Debbie Lashko\n"
     ]
    }
   ],
   "source": [
    "mng = Manager(\"Debbie Lashko\", 86500)\n",
    "print(mng.name)\n",
    "print(mng.salary)\n",
    "# Call mng.display()\n",
    "mng.display()"
   ]
  },
  {
   "cell_type": "markdown",
   "id": "acb2f77e",
   "metadata": {},
   "source": [
    "### Customizing functionality via inheritance\n",
    "\n",
    "#### Customizing Constructors"
   ]
  },
  {
   "cell_type": "code",
   "execution_count": 85,
   "id": "ce18d3bc",
   "metadata": {},
   "outputs": [],
   "source": [
    "class BankAccount: # class MyChild(MyParent):\n",
    "    def __init__(self, balance):    \n",
    "        self.balance = balance\n",
    "        \n",
    "    def withdraw(self, amount):\n",
    "        self.balance -= amount\n",
    "\n",
    "class SavingsAccount(BankAccount):\n",
    "    \n",
    "    # Constructor speficially for SavingsAccount with an additional parameter\n",
    "    def __init__(self, balance, interest_rate):\n",
    "        \n",
    "        # Call the parent constructor using ClassName.__init__()\n",
    "        BankAccount.__init__(self, balance) # <---- Now \"self\" is a SavingsAccount but also a BankAccount\n",
    "        # Add more functionality \n",
    "        self.interest_rate = interest_rate\n",
    "    \n",
    "    # New functionality\n",
    "    def compute_interest(self, n_periods = 1):\n",
    "        return self.balance * ( (1 + self.interest_rate) ** n_periods - 1)"
   ]
  },
  {
   "cell_type": "code",
   "execution_count": 84,
   "id": "3f677d36",
   "metadata": {},
   "outputs": [
    {
     "data": {
      "text/plain": [
       "0.03"
      ]
     },
     "execution_count": 84,
     "metadata": {},
     "output_type": "execute_result"
    }
   ],
   "source": [
    "# construct the object using the new constructor\n",
    "acct = SavingsAccount(1000, 0.03)\n",
    "acct.interest_rate"
   ]
  },
  {
   "cell_type": "code",
   "execution_count": 117,
   "id": "0c0c2dac",
   "metadata": {},
   "outputs": [],
   "source": [
    "class CheckingAccount(BankAccount):\n",
    "    \n",
    "    def __init__(self, balance, limit):\n",
    "        BankAccount.__init__(self, balance)\n",
    "        self.limit = limit\n",
    "        \n",
    "    def deposit(self, amount):\n",
    "        self.balance += amount\n",
    "        \n",
    "    def withdraw(self, amount, fee=0):\n",
    "        if fee <= self.limit:\n",
    "            BankAccount.withdraw(self, amount - fee)\n",
    "        else:    \n",
    "            BankAccount.withdraw(self, \n",
    "                                 amount - self.limit)"
   ]
  },
  {
   "cell_type": "code",
   "execution_count": 119,
   "id": "f17f4daa",
   "metadata": {},
   "outputs": [
    {
     "data": {
      "text/plain": [
       "800"
      ]
     },
     "execution_count": 119,
     "metadata": {},
     "output_type": "execute_result"
    }
   ],
   "source": [
    "check_acct = CheckingAccount(1000, 25)\n",
    "# Will call withdraw from CheckingAccount\n",
    "check_acct.withdraw(200)\n",
    "\n",
    "check_acct.balance"
   ]
  },
  {
   "cell_type": "code",
   "execution_count": 120,
   "id": "4923cbdb",
   "metadata": {},
   "outputs": [
    {
     "data": {
      "text/plain": [
       "800"
      ]
     },
     "execution_count": 120,
     "metadata": {},
     "output_type": "execute_result"
    }
   ],
   "source": [
    "bank_acct = BankAccount(1000)\n",
    "# Will call withdraw from BankAccount\n",
    "bank_acct.withdraw(200)\n",
    "\n",
    "bank_acct.balance"
   ]
  },
  {
   "cell_type": "markdown",
   "id": "769c8f2a",
   "metadata": {},
   "source": [
    "### Method inheritance\n",
    "You'll add new data to the class, and customize the give_raise() method to increase the manager's raise amount by a bonus percentage whenever they are given a raise."
   ]
  },
  {
   "cell_type": "code",
   "execution_count": 108,
   "id": "fe9ef506",
   "metadata": {},
   "outputs": [],
   "source": [
    "class Employee:\n",
    "    def __init__(self, name, salary=30000):\n",
    "        self.name = name\n",
    "        self.salary = salary\n",
    "\n",
    "    def give_raise(self, amount):\n",
    "        self.salary += amount\n",
    "\n",
    "        \n",
    "class Manager(Employee):\n",
    "    def display(self):\n",
    "        print(\"Manager \", self.name)\n",
    "\n",
    "    def __init__(self, name, salary=50000, project=None):\n",
    "        Employee.__init__(self, name, salary)\n",
    "        self.project = project\n",
    "\n",
    "    # Add a give_raise method\n",
    "    def give_raise(self, amount, bonus = 1.05):\n",
    "        \n",
    "        return Employee.give_raise(self, amount * bonus) "
   ]
  },
  {
   "cell_type": "code",
   "execution_count": 110,
   "id": "fbec05f4",
   "metadata": {},
   "outputs": [
    {
     "name": "stdout",
     "output_type": "stream",
     "text": [
      "79550.0\n"
     ]
    }
   ],
   "source": [
    "mngr = Manager(\"Ashta Dunbar\", 78500)\n",
    "mngr.give_raise(1000)\n",
    "print(mngr.salary)"
   ]
  },
  {
   "cell_type": "code",
   "execution_count": 111,
   "id": "8beed2e9",
   "metadata": {},
   "outputs": [
    {
     "name": "stdout",
     "output_type": "stream",
     "text": [
      "81610.0\n"
     ]
    }
   ],
   "source": [
    "mngr.give_raise(2000, bonus=1.03)\n",
    "print(mngr.salary)"
   ]
  },
  {
   "cell_type": "markdown",
   "id": "b78c8664",
   "metadata": {},
   "source": [
    "### Inheritance of class attributes\n"
   ]
  },
  {
   "cell_type": "code",
   "execution_count": 122,
   "id": "9ee2c203",
   "metadata": {},
   "outputs": [],
   "source": [
    "class Player:\n",
    "    MAX_POSITION = 10\n",
    "    MAX_SPEED = 3\n",
    "    def __init__(self):\n",
    "        self.position = 0\n",
    "\n",
    "    # Add a move() method with steps parameter     \n",
    "    def move(self, steps):\n",
    "        if self.position + steps < Player.MAX_POSITION:\n",
    "           self.position = self.position + steps \n",
    "        else:\n",
    "           self.position = Player.MAX_POSITION\n",
    "    \n",
    "    # This method provides a rudimentary visualization in the console    \n",
    "    def draw(self):\n",
    "        drawing = \"-\" * self.position + \"|\" +\"-\"*(Player.MAX_POSITION - self.position)\n",
    "        print(drawing)"
   ]
  },
  {
   "cell_type": "code",
   "execution_count": 123,
   "id": "c005dd1d",
   "metadata": {},
   "outputs": [
    {
     "name": "stdout",
     "output_type": "stream",
     "text": [
      "p.MAX_SPEED =  3\n",
      "r.MAX_SPEED =  5\n",
      "p.MAX_POSITION =  10\n",
      "r.MAX_POSITION =  10\n"
     ]
    }
   ],
   "source": [
    "# Create a Racer class and set MAX_SPEED to 5\n",
    "class Racer(Player):\n",
    "    MAX_SPEED = 5\n",
    "\n",
    "# Create a Player and a Racer objects\n",
    "p = Player()\n",
    "r = Racer()\n",
    "\n",
    "print(\"p.MAX_SPEED = \", p.MAX_SPEED)\n",
    "print(\"r.MAX_SPEED = \", r.MAX_SPEED)\n",
    "\n",
    "print(\"p.MAX_POSITION = \", p.MAX_POSITION)\n",
    "print(\"r.MAX_POSITION = \", r.MAX_POSITION)"
   ]
  },
  {
   "cell_type": "markdown",
   "id": "49bf95e1",
   "metadata": {},
   "source": [
    "> Class attributes CAN be inherited, and the value of class attributes CAN be overwritten in the child class. Notice that the value of MAX_SPEED in Player was not affected by the changes to the attribute of the same name in Racer."
   ]
  },
  {
   "cell_type": "markdown",
   "id": "52536435",
   "metadata": {},
   "source": [
    "### Customizing a DataFrame\n",
    "You will implement a small LoggedDF class that inherits from a regular pandas DataFrame but has a created_at attribute storing the timestamp. You will then augment the standard to_csv() method to always include a column storing the creation date."
   ]
  },
  {
   "cell_type": "code",
   "execution_count": 124,
   "id": "24087e55",
   "metadata": {},
   "outputs": [],
   "source": [
    "# Import pandas as pd\n",
    "import pandas as pd\n",
    "\n",
    "# Define LoggedDF inherited from pd.DataFrame and add the constructor\n",
    "class LoggedDF(pd.DataFrame):\n",
    "    def __init__(self, *args, **kwargs):\n",
    "        pd.DataFrame.__init__(self, *args, **kwargs)\n",
    "        self.created_at = datetime.today()\n",
    "    \n",
    "    def to_csv(self, *args, **kwargs):\n",
    "        # Copy self to a temporary DataFrame\n",
    "        temp = self.copy()\n",
    "    \n",
    "        # Create a new column filled with self.created_at\n",
    "        temp[\"created_at\"] = self.created_at\n",
    "    \n",
    "        # Call pd.DataFrame.to_csv on temp, passing in *args and **kwargs\n",
    "        pd.DataFrame.to_csv(temp, *args, **kwargs)"
   ]
  },
  {
   "cell_type": "code",
   "execution_count": 125,
   "id": "fd3e943a",
   "metadata": {},
   "outputs": [
    {
     "name": "stdout",
     "output_type": "stream",
     "text": [
      "[[1 3]\n",
      " [2 4]]\n",
      "2022-08-05 15:25:34.389852\n"
     ]
    }
   ],
   "source": [
    "ldf = LoggedDF({\"col1\": [1,2], \"col2\": [3,4]})\n",
    "print(ldf.values)\n",
    "print(ldf.created_at)"
   ]
  },
  {
   "cell_type": "code",
   "execution_count": 126,
   "id": "d412c50e",
   "metadata": {},
   "outputs": [
    {
     "data": {
      "text/html": [
       "<div>\n",
       "<style scoped>\n",
       "    .dataframe tbody tr th:only-of-type {\n",
       "        vertical-align: middle;\n",
       "    }\n",
       "\n",
       "    .dataframe tbody tr th {\n",
       "        vertical-align: top;\n",
       "    }\n",
       "\n",
       "    .dataframe thead th {\n",
       "        text-align: right;\n",
       "    }\n",
       "</style>\n",
       "<table border=\"1\" class=\"dataframe\">\n",
       "  <thead>\n",
       "    <tr style=\"text-align: right;\">\n",
       "      <th></th>\n",
       "      <th>col1</th>\n",
       "      <th>col2</th>\n",
       "    </tr>\n",
       "  </thead>\n",
       "  <tbody>\n",
       "    <tr>\n",
       "      <th>0</th>\n",
       "      <td>1</td>\n",
       "      <td>3</td>\n",
       "    </tr>\n",
       "    <tr>\n",
       "      <th>1</th>\n",
       "      <td>2</td>\n",
       "      <td>4</td>\n",
       "    </tr>\n",
       "  </tbody>\n",
       "</table>\n",
       "</div>"
      ],
      "text/plain": [
       "   col1  col2\n",
       "0     1     3\n",
       "1     2     4"
      ]
     },
     "execution_count": 126,
     "metadata": {},
     "output_type": "execute_result"
    }
   ],
   "source": [
    "ldf"
   ]
  },
  {
   "cell_type": "markdown",
   "id": "909c1452",
   "metadata": {},
   "source": [
    "# 3. Integrating with Standard Python\n",
    "\n",
    "## Operator overloading: comparison\n",
    "\n",
    "#### Variables are references\n"
   ]
  },
  {
   "cell_type": "code",
   "execution_count": 127,
   "id": "627c4658",
   "metadata": {},
   "outputs": [
    {
     "name": "stdout",
     "output_type": "stream",
     "text": [
      "The __init__ method was called...\n",
      "The __init__ method was called...\n"
     ]
    },
    {
     "data": {
      "text/plain": [
       "False"
      ]
     },
     "execution_count": 127,
     "metadata": {},
     "output_type": "execute_result"
    }
   ],
   "source": [
    "customer_1 = Customer(\"Maryam Azar\", 3000)\n",
    "customer_2 = Customer(\"Maryam Azar\", 3000)\n",
    "customer_1 == customer_2"
   ]
  },
  {
   "cell_type": "code",
   "execution_count": 128,
   "id": "6ff58f16",
   "metadata": {},
   "outputs": [
    {
     "name": "stdout",
     "output_type": "stream",
     "text": [
      "<__main__.Customer object at 0x7fcae9d0e1f0>\n"
     ]
    }
   ],
   "source": [
    "print(customer_1)"
   ]
  },
  {
   "cell_type": "code",
   "execution_count": 129,
   "id": "b8dffc5a",
   "metadata": {},
   "outputs": [
    {
     "name": "stdout",
     "output_type": "stream",
     "text": [
      "<__main__.Customer object at 0x7fcae9aabb80>\n"
     ]
    }
   ],
   "source": [
    "print(customer_2)"
   ]
  },
  {
   "cell_type": "markdown",
   "id": "a3487d0d",
   "metadata": {},
   "source": [
    "> customer_1 nad customer_2 are considered different by the alocation in memory."
   ]
  },
  {
   "cell_type": "markdown",
   "id": "cecfabe8",
   "metadata": {},
   "source": [
    "#### Custom Comparison"
   ]
  },
  {
   "cell_type": "code",
   "execution_count": 130,
   "id": "0e2afcbb",
   "metadata": {},
   "outputs": [
    {
     "data": {
      "text/plain": [
       "array([ True,  True,  True])"
      ]
     },
     "execution_count": 130,
     "metadata": {},
     "output_type": "execute_result"
    }
   ],
   "source": [
    "import numpy as np\n",
    "\n",
    "array_1 = np.array([1,2,3])\n",
    "array_2 = np.array([1,2,3])\n",
    "\n",
    "array_1 == array_2"
   ]
  },
  {
   "cell_type": "code",
   "execution_count": 131,
   "id": "3dfff4d6",
   "metadata": {},
   "outputs": [],
   "source": [
    "class Customer:\n",
    "    def __init__(self, id, name):\n",
    "        self.id, self.name = id, name\n",
    "    # Will be called when == is used\n",
    "    def __eq__(self, other):\n",
    "        print(\"__eq__() was called\")\n",
    "        \n",
    "        # Returns True if all attributes match\n",
    "        return (self.id == other.id) and \\\n",
    "               (self.name == other.name)"
   ]
  },
  {
   "cell_type": "code",
   "execution_count": 132,
   "id": "b5178150",
   "metadata": {},
   "outputs": [
    {
     "name": "stdout",
     "output_type": "stream",
     "text": [
      "__eq__() was called\n"
     ]
    },
    {
     "data": {
      "text/plain": [
       "True"
      ]
     },
     "execution_count": 132,
     "metadata": {},
     "output_type": "execute_result"
    }
   ],
   "source": [
    "customer_1 = Customer(\"Maryam Azar\", 3000)\n",
    "customer_2 = Customer(\"Maryam Azar\", 3000)\n",
    "customer_1 == customer_2"
   ]
  },
  {
   "cell_type": "code",
   "execution_count": 133,
   "id": "d813ca5c",
   "metadata": {},
   "outputs": [
    {
     "name": "stdout",
     "output_type": "stream",
     "text": [
      "__eq__() was called\n"
     ]
    },
    {
     "data": {
      "text/plain": [
       "False"
      ]
     },
     "execution_count": 133,
     "metadata": {},
     "output_type": "execute_result"
    }
   ],
   "source": [
    "customer_1 = Customer(\"Maryam Azar\", 3000)\n",
    "customer_2 = Customer(\"Maryam Azar\", 2500)\n",
    "customer_1 == customer_2"
   ]
  },
  {
   "cell_type": "markdown",
   "id": "5bfb3652",
   "metadata": {},
   "source": [
    "#### Other comparison operators \n",
    "\n",
    "> == \\__eq__()\n",
    "\n",
    "> != \\__ne__()\n",
    "\n",
    "> \\>= \\__ge__()\n",
    "\n",
    "> <= \\__le__()\n",
    "\n",
    "> \\> \\__gt__()\n",
    "\n",
    "> < \\__lt__()"
   ]
  },
  {
   "cell_type": "markdown",
   "id": "ef1df97a",
   "metadata": {},
   "source": [
    "### Overloading equality\n"
   ]
  },
  {
   "cell_type": "code",
   "execution_count": 135,
   "id": "be3f9129",
   "metadata": {},
   "outputs": [
    {
     "name": "stdout",
     "output_type": "stream",
     "text": [
      "True\n"
     ]
    }
   ],
   "source": [
    "class BankAccount:\n",
    "   # MODIFY to initialize a number attribute\n",
    "    def __init__(self, number, balance=0):\n",
    "        self.balance = balance\n",
    "        self.number = number\n",
    "\n",
    "    def withdraw(self, amount):\n",
    "        self.balance -= amount \n",
    "    \n",
    "    # Define __eq__ that returns True if the number attributes are equal \n",
    "    def __eq__(self, other):\n",
    "        return self.number == other.number   \n",
    "\n",
    "# Create accounts and compare them       \n",
    "acct1 = BankAccount(123, 1000)\n",
    "acct2 = BankAccount(123, 1000)\n",
    "acct3 = BankAccount(456, 1000)\n",
    "print(acct1 == acct2)"
   ]
  },
  {
   "cell_type": "code",
   "execution_count": 136,
   "id": "575992c4",
   "metadata": {},
   "outputs": [
    {
     "name": "stdout",
     "output_type": "stream",
     "text": [
      "False\n"
     ]
    }
   ],
   "source": [
    "print(acct1 == acct3)"
   ]
  },
  {
   "cell_type": "markdown",
   "id": "56e7a364",
   "metadata": {},
   "source": [
    "### Checking class equality\n"
   ]
  },
  {
   "cell_type": "code",
   "execution_count": 140,
   "id": "1dae3192",
   "metadata": {},
   "outputs": [],
   "source": [
    "class Phone:\n",
    "    def __init__(self, number):\n",
    "        self.number = number\n",
    "\n",
    "    def __eq__(self, other):\n",
    "        return self.number == \\\n",
    "               other.number\n",
    "\n",
    "pn = Phone(873555333)"
   ]
  },
  {
   "cell_type": "code",
   "execution_count": 141,
   "id": "24b6ca75",
   "metadata": {},
   "outputs": [],
   "source": [
    "class BankAccount:\n",
    "    def __init__(self, number):\n",
    "        self.number = number\n",
    "\n",
    "    def __eq__(self, other):\n",
    "        return self.number == \\\n",
    "               other.number\n",
    "\n",
    "acct = BankAccount(873555333)"
   ]
  },
  {
   "cell_type": "code",
   "execution_count": 142,
   "id": "d30a9906",
   "metadata": {},
   "outputs": [
    {
     "data": {
      "text/plain": [
       "True"
      ]
     },
     "execution_count": 142,
     "metadata": {},
     "output_type": "execute_result"
    }
   ],
   "source": [
    "pn == acct"
   ]
  },
  {
   "cell_type": "code",
   "execution_count": 143,
   "id": "8c74d37a",
   "metadata": {},
   "outputs": [],
   "source": [
    "class BankAccount:\n",
    "    def __init__(self, number, balance=0):\n",
    "        self.number, self.balance = number, balance\n",
    "      \n",
    "    def withdraw(self, amount):\n",
    "        self.balance -= amount \n",
    "\n",
    "    # MODIFY to add a check for the type()\n",
    "    def __eq__(self, other):\n",
    "        return (self.number == other.number) and (type(self) == type(other))"
   ]
  },
  {
   "cell_type": "code",
   "execution_count": 144,
   "id": "82cf259e",
   "metadata": {},
   "outputs": [
    {
     "name": "stdout",
     "output_type": "stream",
     "text": [
      "False\n"
     ]
    }
   ],
   "source": [
    "acct = BankAccount(873555333)\n",
    "pn = Phone(873555333)\n",
    "print(acct == pn)"
   ]
  },
  {
   "cell_type": "markdown",
   "id": "0d300289",
   "metadata": {},
   "source": [
    "> Now only comparing objects of the same class BankAccount could return True. Another way to ensure that an object has the same type as you expect is to use the isinstance(obj, Class) function. This can helpful when handling inheritance, as Python considers an object to be an instance of both the parent and the child class. Try running pn == acct in the console (with reversed order of equality). "
   ]
  },
  {
   "cell_type": "markdown",
   "id": "5f2944f8",
   "metadata": {},
   "source": [
    "### Comparison and inheritance\n"
   ]
  },
  {
   "cell_type": "code",
   "execution_count": 145,
   "id": "f704f3a6",
   "metadata": {},
   "outputs": [],
   "source": [
    "class Parent:\n",
    "    def __eq__(self, other):\n",
    "        print(\"Parent's __eq__() called\")\n",
    "        return True\n",
    "\n",
    "class Child(Parent):\n",
    "    def __eq__(self, other):\n",
    "        print(\"Child's __eq__() called\")\n",
    "        return True"
   ]
  },
  {
   "cell_type": "code",
   "execution_count": 146,
   "id": "e929b267",
   "metadata": {
    "scrolled": true
   },
   "outputs": [
    {
     "name": "stdout",
     "output_type": "stream",
     "text": [
      "Child's __eq__() called\n"
     ]
    },
    {
     "data": {
      "text/plain": [
       "True"
      ]
     },
     "execution_count": 146,
     "metadata": {},
     "output_type": "execute_result"
    }
   ],
   "source": [
    "p = Parent()\n",
    "c = Child()\n",
    "\n",
    "p == c "
   ]
  },
  {
   "cell_type": "markdown",
   "id": "e3f7b86e",
   "metadata": {},
   "source": [
    " > Child's __eq__() method will be called. Python always calls the child's __eq__() method when comparing a child object to a parent object."
   ]
  },
  {
   "cell_type": "markdown",
   "id": "fe120bf2",
   "metadata": {},
   "source": [
    "## Operator overloading: string representation\n"
   ]
  },
  {
   "cell_type": "code",
   "execution_count": 169,
   "id": "fc2a76b5",
   "metadata": {},
   "outputs": [],
   "source": [
    "class Customer:\n",
    "    def __init__(self, name, balance):\n",
    "        self.name, self.balance = name, balance\n",
    "    \n",
    "    def __str__(self):\n",
    "        cust_str = \"\"\"Customer: \n",
    "        name: {name} \n",
    "        balance: {balance}\"\"\".format(name = self.name, balance = self.balance)\n",
    "        return cust_str"
   ]
  },
  {
   "cell_type": "code",
   "execution_count": 170,
   "id": "5e67d84c",
   "metadata": {},
   "outputs": [
    {
     "name": "stdout",
     "output_type": "stream",
     "text": [
      "Customer: \n",
      "        name: Maryam Azar \n",
      "        balance: 3000\n"
     ]
    }
   ],
   "source": [
    "cust = Customer(\"Maryam Azar\", 3000)\n",
    "# Will implicitly call __str__()\n",
    "print(cust)"
   ]
  },
  {
   "cell_type": "code",
   "execution_count": 165,
   "id": "f7395f0a",
   "metadata": {},
   "outputs": [],
   "source": [
    "class Customer:\n",
    "    def __init__(self, name, balance):\n",
    "        self.name, self.balance = name, balance\n",
    "    \n",
    "    def __repr__(self):\n",
    "        return \"Customer({name}, {balance})\".format(name = self.name, balance = self.balance)"
   ]
  },
  {
   "cell_type": "code",
   "execution_count": 166,
   "id": "7b4e1956",
   "metadata": {},
   "outputs": [
    {
     "data": {
      "text/plain": [
       "Customer(Maryam Azar, 3000)"
      ]
     },
     "execution_count": 166,
     "metadata": {},
     "output_type": "execute_result"
    }
   ],
   "source": [
    "cust = Customer(\"Maryam Azar\", 3000)\n",
    "# Will implicitly call __repr__()\n",
    "cust"
   ]
  },
  {
   "cell_type": "markdown",
   "id": "e26cc6c4",
   "metadata": {},
   "source": [
    "### String formatting review\n"
   ]
  },
  {
   "cell_type": "code",
   "execution_count": 174,
   "id": "ca31cd51",
   "metadata": {},
   "outputs": [
    {
     "name": "stdout",
     "output_type": "stream",
     "text": [
      "my_num is 5, and my_str is \"Hello\".\n"
     ]
    }
   ],
   "source": [
    "my_num = 5\n",
    "my_str = \"Hello\"\n",
    "\n",
    "f = \"my_num is {}, and my_str is \\\"{}\\\".\".format(my_num, my_str)\n",
    "print(f)"
   ]
  },
  {
   "cell_type": "markdown",
   "id": "b3e39435",
   "metadata": {},
   "source": [
    "> In order to format a string with variables, you can either use keyword arguments in .format ('Insert {n} here'.format(n=num)), refer to them by position index explicitly (like 'Insert {0} here'.format(num)) or implicitly (like 'Insert {} here'.format(num)). You can use double quotation marks inside single quotation marks and the way around, but to nest the same set of quotation marks, you need to escape them with a slash like \\\"."
   ]
  },
  {
   "cell_type": "markdown",
   "id": "74c606e7",
   "metadata": {},
   "source": [
    "### String representation of objects\n"
   ]
  },
  {
   "cell_type": "code",
   "execution_count": 177,
   "id": "9b6a6317",
   "metadata": {},
   "outputs": [
    {
     "name": "stdout",
     "output_type": "stream",
     "text": [
      "Employee name: Amar Howard\n",
      "Employee salary: 30000\n",
      "Employee name: Carolyn Ramirez\n",
      "Employee salary: 35000\n"
     ]
    }
   ],
   "source": [
    "class Employee:\n",
    "    def __init__(self, name, salary=30000):\n",
    "        self.name, self.salary = name, salary\n",
    "            \n",
    "    # Add the __str__() method\n",
    "    def __str__(self):\n",
    "        s = \"Employee name: {name}\\nEmployee salary: {salary}\".format(name=self.name, salary=self.salary)      \n",
    "        return s\n",
    "\n",
    "emp1 = Employee(\"Amar Howard\", 30000)\n",
    "print(emp1)\n",
    "emp2 = Employee(\"Carolyn Ramirez\", 35000)\n",
    "print(emp2)"
   ]
  },
  {
   "cell_type": "code",
   "execution_count": 178,
   "id": "fc65d66e",
   "metadata": {},
   "outputs": [
    {
     "name": "stdout",
     "output_type": "stream",
     "text": [
      "Employee(\"Amar Howard\", 30000)\n",
      "Employee(\"Carolyn Ramirez\", 35000)\n"
     ]
    }
   ],
   "source": [
    "class Employee:\n",
    "    def __init__(self, name, salary=30000):\n",
    "        self.name, self.salary = name, salary\n",
    "      \n",
    "\n",
    "    def __str__(self):\n",
    "        s = \"Employee name: {name}\\nEmployee salary: {salary}\".format(name=self.name, salary=self.salary)      \n",
    "        return s\n",
    "      \n",
    "    # Add the __repr__method  \n",
    "    def __repr__(self):\n",
    "        s = \"Employee(\\\"{name}\\\", {salary})\".format(name=self.name, salary=self.salary)      \n",
    "        return s      \n",
    "\n",
    "emp1 = Employee(\"Amar Howard\", 30000)\n",
    "print(repr(emp1))\n",
    "emp2 = Employee(\"Carolyn Ramirez\", 35000)\n",
    "print(repr(emp2))"
   ]
  },
  {
   "cell_type": "markdown",
   "id": "c4ab9f46",
   "metadata": {},
   "source": [
    "## Exceptions"
   ]
  },
  {
   "cell_type": "code",
   "execution_count": 180,
   "id": "59a3a89e",
   "metadata": {},
   "outputs": [
    {
     "data": {
      "text/plain": [
       "'\\ntry:\\n    # Try running some code\\nexcept ExceptionNameHere:\\n    # Run this code if ExceptionNameHere happens\\nexcept AnotherNameHere:\\n    # Run this code if AnotherNameHere happens \\nfinally:\\n    # Run this code no matter what\\n    '"
      ]
     },
     "execution_count": 180,
     "metadata": {},
     "output_type": "execute_result"
    }
   ],
   "source": [
    "\"\"\"\n",
    "try:\n",
    "    # Try running some code\n",
    "    \n",
    "except ExceptionNameHere:\n",
    "    # Run this code if ExceptionNameHere happens\n",
    "    \n",
    "except AnotherNameHere:\n",
    "    # Run this code if AnotherNameHere happens \n",
    "    \n",
    "finally:\n",
    "    # Run this code no matter what\n",
    "    \"\"\""
   ]
  },
  {
   "cell_type": "markdown",
   "id": "700d7dd4",
   "metadata": {},
   "source": [
    "##### Raising Exceptions"
   ]
  },
  {
   "cell_type": "code",
   "execution_count": 181,
   "id": "49be39e6",
   "metadata": {},
   "outputs": [],
   "source": [
    "def make_list_of_ones(length):\n",
    "    if length <= 0:\n",
    "        raise ValueError(\"Invalid length!\")\n",
    "    return [1]*length"
   ]
  },
  {
   "cell_type": "code",
   "execution_count": 182,
   "id": "5e5395d5",
   "metadata": {},
   "outputs": [
    {
     "ename": "ValueError",
     "evalue": "Invalid length!",
     "output_type": "error",
     "traceback": [
      "\u001b[0;31m---------------------------------------------------------------------------\u001b[0m",
      "\u001b[0;31mValueError\u001b[0m                                Traceback (most recent call last)",
      "\u001b[0;32m/var/folders/4n/dll6nv094h5fm4m2lhzkmtd40000gn/T/ipykernel_86751/2755323190.py\u001b[0m in \u001b[0;36m<module>\u001b[0;34m\u001b[0m\n\u001b[0;32m----> 1\u001b[0;31m \u001b[0mmake_list_of_ones\u001b[0m\u001b[0;34m(\u001b[0m\u001b[0;34m-\u001b[0m\u001b[0;36m1\u001b[0m\u001b[0;34m)\u001b[0m\u001b[0;34m\u001b[0m\u001b[0;34m\u001b[0m\u001b[0m\n\u001b[0m",
      "\u001b[0;32m/var/folders/4n/dll6nv094h5fm4m2lhzkmtd40000gn/T/ipykernel_86751/3328044789.py\u001b[0m in \u001b[0;36mmake_list_of_ones\u001b[0;34m(length)\u001b[0m\n\u001b[1;32m      1\u001b[0m \u001b[0;32mdef\u001b[0m \u001b[0mmake_list_of_ones\u001b[0m\u001b[0;34m(\u001b[0m\u001b[0mlength\u001b[0m\u001b[0;34m)\u001b[0m\u001b[0;34m:\u001b[0m\u001b[0;34m\u001b[0m\u001b[0;34m\u001b[0m\u001b[0m\n\u001b[1;32m      2\u001b[0m     \u001b[0;32mif\u001b[0m \u001b[0mlength\u001b[0m \u001b[0;34m<=\u001b[0m \u001b[0;36m0\u001b[0m\u001b[0;34m:\u001b[0m\u001b[0;34m\u001b[0m\u001b[0;34m\u001b[0m\u001b[0m\n\u001b[0;32m----> 3\u001b[0;31m         \u001b[0;32mraise\u001b[0m \u001b[0mValueError\u001b[0m\u001b[0;34m(\u001b[0m\u001b[0;34m\"Invalid length!\"\u001b[0m\u001b[0;34m)\u001b[0m\u001b[0;34m\u001b[0m\u001b[0;34m\u001b[0m\u001b[0m\n\u001b[0m\u001b[1;32m      4\u001b[0m     \u001b[0;32mreturn\u001b[0m \u001b[0;34m[\u001b[0m\u001b[0;36m1\u001b[0m\u001b[0;34m]\u001b[0m\u001b[0;34m*\u001b[0m\u001b[0mlength\u001b[0m\u001b[0;34m\u001b[0m\u001b[0;34m\u001b[0m\u001b[0m\n",
      "\u001b[0;31mValueError\u001b[0m: Invalid length!"
     ]
    }
   ],
   "source": [
    "make_list_of_ones(-1)"
   ]
  },
  {
   "cell_type": "markdown",
   "id": "4c3f929b",
   "metadata": {},
   "source": [
    "> Exceptions are Classes and we can define them.\n",
    "##### Custom Exceptions"
   ]
  },
  {
   "cell_type": "code",
   "execution_count": 183,
   "id": "ec7f168c",
   "metadata": {},
   "outputs": [],
   "source": [
    "class BalanceError(Exception):\n",
    "    pass"
   ]
  },
  {
   "cell_type": "code",
   "execution_count": 184,
   "id": "82c2de4c",
   "metadata": {},
   "outputs": [],
   "source": [
    "class Customer:\n",
    "    def __init__(self, name, balance):\n",
    "        if balance < 0:\n",
    "            raise BalanceError(\"Balance has to be non-negative!\")\n",
    "        else:\n",
    "            self.name, self.balance = name, balance"
   ]
  },
  {
   "cell_type": "code",
   "execution_count": 185,
   "id": "a2d21726",
   "metadata": {},
   "outputs": [
    {
     "ename": "BalanceError",
     "evalue": "Balance has to be non-negative!",
     "output_type": "error",
     "traceback": [
      "\u001b[0;31m---------------------------------------------------------------------------\u001b[0m",
      "\u001b[0;31mBalanceError\u001b[0m                              Traceback (most recent call last)",
      "\u001b[0;32m/var/folders/4n/dll6nv094h5fm4m2lhzkmtd40000gn/T/ipykernel_86751/904911823.py\u001b[0m in \u001b[0;36m<module>\u001b[0;34m\u001b[0m\n\u001b[0;32m----> 1\u001b[0;31m \u001b[0mcust\u001b[0m \u001b[0;34m=\u001b[0m \u001b[0mCustomer\u001b[0m\u001b[0;34m(\u001b[0m\u001b[0;34m\"Larry Torres\"\u001b[0m\u001b[0;34m,\u001b[0m \u001b[0;34m-\u001b[0m\u001b[0;36m5000\u001b[0m\u001b[0;34m)\u001b[0m\u001b[0;34m\u001b[0m\u001b[0;34m\u001b[0m\u001b[0m\n\u001b[0m",
      "\u001b[0;32m/var/folders/4n/dll6nv094h5fm4m2lhzkmtd40000gn/T/ipykernel_86751/1531311722.py\u001b[0m in \u001b[0;36m__init__\u001b[0;34m(self, name, balance)\u001b[0m\n\u001b[1;32m      2\u001b[0m     \u001b[0;32mdef\u001b[0m \u001b[0m__init__\u001b[0m\u001b[0;34m(\u001b[0m\u001b[0mself\u001b[0m\u001b[0;34m,\u001b[0m \u001b[0mname\u001b[0m\u001b[0;34m,\u001b[0m \u001b[0mbalance\u001b[0m\u001b[0;34m)\u001b[0m\u001b[0;34m:\u001b[0m\u001b[0;34m\u001b[0m\u001b[0;34m\u001b[0m\u001b[0m\n\u001b[1;32m      3\u001b[0m         \u001b[0;32mif\u001b[0m \u001b[0mbalance\u001b[0m \u001b[0;34m<\u001b[0m \u001b[0;36m0\u001b[0m\u001b[0;34m:\u001b[0m\u001b[0;34m\u001b[0m\u001b[0;34m\u001b[0m\u001b[0m\n\u001b[0;32m----> 4\u001b[0;31m             \u001b[0;32mraise\u001b[0m \u001b[0mBalanceError\u001b[0m\u001b[0;34m(\u001b[0m\u001b[0;34m\"Balance has to be non-negative!\"\u001b[0m\u001b[0;34m)\u001b[0m\u001b[0;34m\u001b[0m\u001b[0;34m\u001b[0m\u001b[0m\n\u001b[0m\u001b[1;32m      5\u001b[0m         \u001b[0;32melse\u001b[0m\u001b[0;34m:\u001b[0m\u001b[0;34m\u001b[0m\u001b[0;34m\u001b[0m\u001b[0m\n\u001b[1;32m      6\u001b[0m             \u001b[0mself\u001b[0m\u001b[0;34m.\u001b[0m\u001b[0mname\u001b[0m\u001b[0;34m,\u001b[0m \u001b[0mself\u001b[0m\u001b[0;34m.\u001b[0m\u001b[0mbalance\u001b[0m \u001b[0;34m=\u001b[0m \u001b[0mname\u001b[0m\u001b[0;34m,\u001b[0m \u001b[0mbalance\u001b[0m\u001b[0;34m\u001b[0m\u001b[0;34m\u001b[0m\u001b[0m\n",
      "\u001b[0;31mBalanceError\u001b[0m: Balance has to be non-negative!"
     ]
    }
   ],
   "source": [
    "cust = Customer(\"Larry Torres\", -5000)"
   ]
  },
  {
   "cell_type": "markdown",
   "id": "9f45d9f9",
   "metadata": {},
   "source": [
    "### Catching exceptions\n"
   ]
  },
  {
   "cell_type": "code",
   "execution_count": 187,
   "id": "45e2a4d7",
   "metadata": {
    "scrolled": true
   },
   "outputs": [
    {
     "name": "stdout",
     "output_type": "stream",
     "text": [
      "0.16666666666666666\n",
      "Cannot divide by zero!\n",
      "None\n",
      "Index out of range!\n",
      "None\n"
     ]
    }
   ],
   "source": [
    "# MODIFY the function to catch exceptions\n",
    "def invert_at_index(x, ind):\n",
    "    try:\n",
    "        return 1/x[ind]\n",
    "    except ZeroDivisionError:\n",
    "        print(\"Cannot divide by zero!\")\n",
    "    except IndexError:\n",
    "        print(\"Index out of range!\")\n",
    " \n",
    "a = [5,6,0,7]\n",
    "\n",
    "# Works okay\n",
    "print(invert_at_index(a, 1))\n",
    "\n",
    "# Potential ZeroDivisionError\n",
    "print(invert_at_index(a, 2))\n",
    "\n",
    "# Potential IndexError\n",
    "print(invert_at_index(a, 5))"
   ]
  },
  {
   "cell_type": "markdown",
   "id": "629aa8b2",
   "metadata": {},
   "source": [
    "### Custom exceptions\n"
   ]
  },
  {
   "cell_type": "code",
   "execution_count": 193,
   "id": "58b71ab4",
   "metadata": {},
   "outputs": [],
   "source": [
    "class SalaryError(ValueError): pass\n",
    "class BonusError(SalaryError): pass\n",
    "\n",
    "class Employee:\n",
    "  MIN_SALARY = 30000\n",
    "  MAX_BONUS = 5000\n",
    "\n",
    "  def __init__(self, name, salary = 30000):\n",
    "    self.name = name    \n",
    "    if salary < Employee.MIN_SALARY:\n",
    "      raise SalaryError(\"Salary is too low!\")      \n",
    "    self.salary = salary\n",
    "    \n",
    "  # Rewrite using exceptions  \n",
    "  def give_bonus(self, amount):\n",
    "    if amount > Employee.MAX_BONUS:\n",
    "       BonusError(\"The bonus amount is too high!\")\n",
    "        \n",
    "    elif self.salary + amount <  Employee.MIN_SALARY:\n",
    "       SalaryError(\"The salary after bonus is too low!\")\n",
    "      \n",
    "    else:  \n",
    "      self.salary += amount"
   ]
  },
  {
   "cell_type": "markdown",
   "id": "ab705cc7",
   "metadata": {},
   "source": [
    "### Handling exception hierarchies\n"
   ]
  },
  {
   "cell_type": "code",
   "execution_count": 194,
   "id": "88871e79",
   "metadata": {},
   "outputs": [],
   "source": [
    "emp = Employee(\"Katze Rik\", salary=50000)\n",
    "try:\n",
    "  emp.give_bonus(7000)\n",
    "except SalaryError:\n",
    "  print(\"SalaryError caught!\")\n",
    "\n",
    "try:\n",
    "  emp.give_bonus(7000)\n",
    "except BonusError:\n",
    "  print(\"BonusError caught!\")\n",
    "\n",
    "try:\n",
    "  emp.give_bonus(-100000)\n",
    "except SalaryError:\n",
    "  print(\"SalaryError caught again!\")\n",
    "\n",
    "try:\n",
    "  emp.give_bonus(-100000)\n",
    "except BonusError:\n",
    "  print(\"BonusError caught again!\")  "
   ]
  },
  {
   "cell_type": "markdown",
   "id": "1de7619a",
   "metadata": {},
   "source": [
    "> except block for a parent exception will catch child exceptions"
   ]
  },
  {
   "cell_type": "code",
   "execution_count": 195,
   "id": "78d4ebdd",
   "metadata": {},
   "outputs": [],
   "source": [
    "emp = Employee(\"Katze Rik\",\\\n",
    "                    50000)\n",
    "try:\n",
    "  emp.give_bonus(7000)\n",
    "except SalaryError:\n",
    "  print(\"SalaryError caught\")\n",
    "except BonusError:\n",
    "  print(\"BonusError caught\")"
   ]
  },
  {
   "cell_type": "code",
   "execution_count": 196,
   "id": "0353e5c4",
   "metadata": {},
   "outputs": [],
   "source": [
    "emp = Employee(\"Katze Rik\",\\\n",
    "                    50000)\n",
    "try:\n",
    "  emp.give_bonus(7000)\n",
    "except BonusError:\n",
    "  print(\"BonusError caught\")\n",
    "except SalaryError:\n",
    "  print(\"SalaryError caught\")"
   ]
  },
  {
   "cell_type": "markdown",
   "id": "adc63b48",
   "metadata": {},
   "source": [
    "> It's better to list the except blocks in the increasing order of specificity, i.e. children before parents, otherwise the child exception will be called in the parent except block."
   ]
  },
  {
   "cell_type": "markdown",
   "id": "bc36e2e7",
   "metadata": {},
   "source": [
    "# 4. Best Practices of Class Design\n",
    "## Designing for inheritance and polymorphism\n",
    "\n"
   ]
  },
  {
   "cell_type": "code",
   "execution_count": 212,
   "id": "6fbe3268",
   "metadata": {},
   "outputs": [],
   "source": [
    "class BankAccount: # class MyChild(MyParent):\n",
    "    def __init__(self, balance):    \n",
    "        self.balance = balance\n",
    "        \n",
    "    def withdraw(self, amount):\n",
    "        self.balance -= amount\n",
    "\n",
    "class SavingsAccount(BankAccount):\n",
    "    \n",
    "    # Constructor speficially for SavingsAccount with an additional parameter\n",
    "    def __init__(self, balance, interest_rate):\n",
    "        \n",
    "        # Call the parent constructor using ClassName.__init__()\n",
    "        BankAccount.__init__(self, balance) # <---- Now \"self\" is a SavingsAccount but also a BankAccount\n",
    "        # Add more functionality \n",
    "        self.interest_rate = interest_rate\n",
    "    \n",
    "    # New functionality\n",
    "    def compute_interest(self, n_periods = 1):\n",
    "        return self.balance * ( (1 + self.interest_rate) ** n_periods - 1)\n",
    "\n",
    "class CheckingAccount(BankAccount):\n",
    "    \n",
    "    def __init__(self, balance, limit):\n",
    "        BankAccount.__init__(self, balance)\n",
    "        self.limit = limit\n",
    "        \n",
    "    def deposit(self, amount):\n",
    "        self.balance += amount\n",
    "        \n",
    "    def withdraw(self, amount, fee=0):\n",
    "        if fee <= self.limit:\n",
    "            BankAccount.withdraw(self, amount - fee)\n",
    "        else:    \n",
    "            BankAccount.withdraw(self, \n",
    "                                 amount - self.limit)"
   ]
  },
  {
   "cell_type": "code",
   "execution_count": 221,
   "id": "883e52d2",
   "metadata": {},
   "outputs": [],
   "source": [
    "# Withdraw amount from each of accounts in list_of_accounts\n",
    "def batch_withdraw(list_of_accounts, amount):\n",
    "    for acct in list_of_accounts:\n",
    "        acct.withdraw(amount)\n",
    "a, b, c = BankAccount(5000), CheckingAccount(2000, 500), SavingsAccount(3000, 0.03)\n",
    "batch_withdraw([a,b,c], 500) # <--- Will use BankAccount.withdraw()\n",
    "                                # then CheckingAccount.withdraw()\n",
    "                                # then SavingsAccount.withdraw()"
   ]
  },
  {
   "cell_type": "code",
   "execution_count": 222,
   "id": "a541a2c4",
   "metadata": {},
   "outputs": [
    {
     "name": "stdout",
     "output_type": "stream",
     "text": [
      "4500\n",
      "1500\n",
      "2500\n"
     ]
    }
   ],
   "source": [
    "print(a.balance)\n",
    "print(b.balance)\n",
    "print(c.balance)"
   ]
  },
  {
   "cell_type": "markdown",
   "id": "9a37b690",
   "metadata": {},
   "source": [
    "### Polymorphic methods\n"
   ]
  },
  {
   "cell_type": "code",
   "execution_count": 223,
   "id": "848b1fe8",
   "metadata": {},
   "outputs": [
    {
     "name": "stdout",
     "output_type": "stream",
     "text": [
      "Parent talking!\n",
      "Child talking!\n",
      "TalkativeChild talking!\n",
      "Parent talking!\n"
     ]
    }
   ],
   "source": [
    "class Parent:\n",
    "    def talk(self):\n",
    "        print(\"Parent talking!\")     \n",
    "\n",
    "class Child(Parent):\n",
    "    def talk(self):\n",
    "        print(\"Child talking!\")          \n",
    "\n",
    "class TalkativeChild(Parent):\n",
    "    def talk(self):\n",
    "        print(\"TalkativeChild talking!\")\n",
    "        Parent.talk(self)\n",
    "\n",
    "\n",
    "p, c, tc = Parent(), Child(), TalkativeChild()\n",
    "\n",
    "for obj in (p, c, tc):\n",
    "    obj.talk()"
   ]
  },
  {
   "cell_type": "markdown",
   "id": "476d9b2e",
   "metadata": {},
   "source": [
    "> Polymorphism ensures that the exact method called is determined dynamically based on the instance. "
   ]
  },
  {
   "cell_type": "markdown",
   "id": "165384c8",
   "metadata": {},
   "source": [
    "### Square and rectangle\n"
   ]
  },
  {
   "cell_type": "code",
   "execution_count": 226,
   "id": "53e1c1cb",
   "metadata": {},
   "outputs": [
    {
     "name": "stdout",
     "output_type": "stream",
     "text": [
      "7 7\n"
     ]
    }
   ],
   "source": [
    "# Define a Rectangle class\n",
    "class Rectangle:\n",
    "    def __init__(self, h, w):\n",
    "      self.h, self.w = h, w\n",
    "\n",
    "# Define a Square class\n",
    "class Square(Rectangle):\n",
    "    def __init__(self, w):\n",
    "      self.h, self.w = w, w \n",
    "    \n",
    "a, b = Rectangle(7, 7), Rectangle(7, 7)\n",
    "\n",
    "print(a.h, b.h)"
   ]
  },
  {
   "cell_type": "markdown",
   "id": "a8c92af7",
   "metadata": {},
   "source": [
    "> The 4x4 Square object would no longer be a square if we assign 7 to h."
   ]
  },
  {
   "cell_type": "code",
   "execution_count": 227,
   "id": "9c2f6c3d",
   "metadata": {},
   "outputs": [],
   "source": [
    "class Rectangle:\n",
    "    def __init__(self, w,h):\n",
    "        self.w, self.h = w,h\n",
    "\n",
    "# Define set_h to set h      \n",
    "    def set_h(self, h):\n",
    "        self.h = h\n",
    "        \n",
    "# Define set_w to set w          \n",
    "    def set_w(self, w):\n",
    "        self.w = w\n",
    "      \n",
    "      \n",
    "class Square(Rectangle):\n",
    "    def __init__(self, w):\n",
    "        self.w, self.h = w, w \n",
    "\n",
    "# Define set_h to set w and h\n",
    "    def set_h(self, h):\n",
    "        self.h = h\n",
    "        self.w = h\n",
    "\n",
    "# Define set_w to set w and h      \n",
    "    def set_w(self, w):\n",
    "        self.w = w\n",
    "        self.h = w"
   ]
  },
  {
   "cell_type": "markdown",
   "id": "892d1911",
   "metadata": {},
   "source": [
    "> Each of the setter methods of Square change both h and w attributes, while setter methods of Rectangle change only one attribute at a time, so the Square objects cannot be substituted for Rectangle into programs that rely on one attribute staying constant.\n",
    "\n",
    "> Remember that the substitution principle requires the substitution to preserve the oversall state of the program. An example of a program that would fail when this substitution is made is a unit test for a setter functions in Rectangle class.\n",
    "\n",
    "## Managing data access: private attributes\n",
    "\n",
    "##### Restricting access\n",
    "\n",
    "> Naming conventions\n",
    "\n",
    "> Use @property to customize access\n",
    "\n",
    ">Overriding \\__getattr__()\\ and \\__setattr__()\\\n"
   ]
  },
  {
   "cell_type": "markdown",
   "id": "1538cfa0",
   "metadata": {},
   "source": [
    "##### Naming conventions\n",
    "\n",
    "> INTERNAL ATTRIBUTES: \"\"obj._att_name\"\" or \"\"obj._method_name()\"\"\n",
    "\n",
    "> PSEUDOPRIVATE ATTRIBUTES: obj.\"\"\\__att_name\"\" or \"\"obj.\\__method_name()\"\""
   ]
  },
  {
   "cell_type": "markdown",
   "id": "2bbe7325",
   "metadata": {},
   "source": [
    "### Using internal attributes\n"
   ]
  },
  {
   "cell_type": "code",
   "execution_count": 228,
   "id": "ec787daf",
   "metadata": {},
   "outputs": [
    {
     "name": "stdout",
     "output_type": "stream",
     "text": [
      "True\n",
      "False\n"
     ]
    }
   ],
   "source": [
    "# Add class attributes for max number of days and months\n",
    "class BetterDate:\n",
    "    _MAX_DAYS = 30\n",
    "    _MAX_MONTHS = 12\n",
    "    \n",
    "    def __init__(self, year, month, day):\n",
    "        self.year, self.month, self.day = year, month, day\n",
    "        \n",
    "    @classmethod\n",
    "    def from_str(cls, datestr):\n",
    "        year, month, day = map(int, datestr.split(\"-\"))\n",
    "        return cls(year, month, day)\n",
    "        \n",
    "    # Add _is_valid() checking day and month values\n",
    "    def _is_valid(self):\n",
    "        return (self.day <= BetterDate._MAX_DAYS) and \\\n",
    "               (self.month <= BetterDate._MAX_MONTHS)\n",
    "        \n",
    "bd1 = BetterDate(2020, 4, 30)\n",
    "print(bd1._is_valid())\n",
    "\n",
    "bd2 = BetterDate(2020, 6, 45)\n",
    "print(bd2._is_valid())"
   ]
  },
  {
   "cell_type": "markdown",
   "id": "14ceb1e6",
   "metadata": {},
   "source": [
    "### Properties (Control attribute access)\n",
    "> @property decorator"
   ]
  },
  {
   "cell_type": "code",
   "execution_count": 248,
   "id": "283eb6e0",
   "metadata": {},
   "outputs": [
    {
     "data": {
      "text/plain": [
       "35000"
      ]
     },
     "execution_count": 248,
     "metadata": {},
     "output_type": "execute_result"
    }
   ],
   "source": [
    "# Use \"protected\" attribute with leading _ to store data\n",
    "\n",
    "class Employer:\n",
    "    def __init__(self, name, new_salary):\n",
    "        self._salary = new_salary\n",
    "\n",
    "    # Use @property on a method whose name is exactly the name of the retricted attribute:\n",
    "        # return the internal attribute\n",
    "    @property\n",
    "    def salary(self):\n",
    "        return self._salary\n",
    "    \n",
    "    # Use @arrt.setter on a method attr() that will be called on obj.attr = value\n",
    "        # the value to assign passed as argument\n",
    "    @salary.setter\n",
    "    def salary(self, new_salary):\n",
    "        if new_salary < 0:\n",
    "            raise ValueError(\"Invalid Salary\")\n",
    "            \n",
    "            self._salary = new_salary\n",
    "\n",
    "emp = Employer(\"Miriam Azari\", 35000)\n",
    "# accessing the \"property\"\n",
    "emp.salary"
   ]
  },
  {
   "cell_type": "code",
   "execution_count": 249,
   "id": "c555e0a5",
   "metadata": {},
   "outputs": [],
   "source": [
    "emp.salary = 60000 # <--- @salary.setter will be called"
   ]
  },
  {
   "cell_type": "code",
   "execution_count": 251,
   "id": "9cbc8c9c",
   "metadata": {
    "scrolled": false
   },
   "outputs": [
    {
     "ename": "ValueError",
     "evalue": "Invalid Salary",
     "output_type": "error",
     "traceback": [
      "\u001b[0;31m---------------------------------------------------------------------------\u001b[0m",
      "\u001b[0;31mValueError\u001b[0m                                Traceback (most recent call last)",
      "\u001b[0;32m/var/folders/4n/dll6nv094h5fm4m2lhzkmtd40000gn/T/ipykernel_86751/1439878024.py\u001b[0m in \u001b[0;36m<module>\u001b[0;34m\u001b[0m\n\u001b[0;32m----> 1\u001b[0;31m \u001b[0memp\u001b[0m\u001b[0;34m.\u001b[0m\u001b[0msalary\u001b[0m \u001b[0;34m=\u001b[0m \u001b[0;34m-\u001b[0m\u001b[0;36m60\u001b[0m\u001b[0;34m\u001b[0m\u001b[0;34m\u001b[0m\u001b[0m\n\u001b[0m",
      "\u001b[0;32m/var/folders/4n/dll6nv094h5fm4m2lhzkmtd40000gn/T/ipykernel_86751/3573978370.py\u001b[0m in \u001b[0;36msalary\u001b[0;34m(self, new_salary)\u001b[0m\n\u001b[1;32m     16\u001b[0m     \u001b[0;32mdef\u001b[0m \u001b[0msalary\u001b[0m\u001b[0;34m(\u001b[0m\u001b[0mself\u001b[0m\u001b[0;34m,\u001b[0m \u001b[0mnew_salary\u001b[0m\u001b[0;34m)\u001b[0m\u001b[0;34m:\u001b[0m\u001b[0;34m\u001b[0m\u001b[0;34m\u001b[0m\u001b[0m\n\u001b[1;32m     17\u001b[0m         \u001b[0;32mif\u001b[0m \u001b[0mnew_salary\u001b[0m \u001b[0;34m<\u001b[0m \u001b[0;36m0\u001b[0m\u001b[0;34m:\u001b[0m\u001b[0;34m\u001b[0m\u001b[0;34m\u001b[0m\u001b[0m\n\u001b[0;32m---> 18\u001b[0;31m             \u001b[0;32mraise\u001b[0m \u001b[0mValueError\u001b[0m\u001b[0;34m(\u001b[0m\u001b[0;34m\"Invalid Salary\"\u001b[0m\u001b[0;34m)\u001b[0m\u001b[0;34m\u001b[0m\u001b[0;34m\u001b[0m\u001b[0m\n\u001b[0m\u001b[1;32m     19\u001b[0m \u001b[0;34m\u001b[0m\u001b[0m\n\u001b[1;32m     20\u001b[0m             \u001b[0mself\u001b[0m\u001b[0;34m.\u001b[0m\u001b[0m_salary\u001b[0m \u001b[0;34m=\u001b[0m \u001b[0mnew_salary\u001b[0m\u001b[0;34m\u001b[0m\u001b[0;34m\u001b[0m\u001b[0m\n",
      "\u001b[0;31mValueError\u001b[0m: Invalid Salary"
     ]
    }
   ],
   "source": [
    "emp.salary = -60"
   ]
  },
  {
   "cell_type": "markdown",
   "id": "0aceda29",
   "metadata": {},
   "source": [
    "> Properties can be used to implement \"read-only\" attributes.\n",
    "\n",
    "> Properties can be accessed using the dot syntax just like regular attributes.\n",
    "\n",
    "> Properties allow for validation of values that are assigned to them.\n",
    "\n",
    "> Properties control only one specific attribute that they're attached to."
   ]
  },
  {
   "cell_type": "markdown",
   "id": "12dfb4fa",
   "metadata": {},
   "source": [
    "##### Other possibilities\n",
    "\n",
    "> Create a read-only property: \n",
    "    \n",
    "    > @attr.getter: Use for the method that is called when property's value is retrieved.\n",
    "        \n",
    "    > @attr.deleter: Use for the method that is called when the property's is deleted using del.\n"
   ]
  },
  {
   "cell_type": "markdown",
   "id": "6c5c9ffd",
   "metadata": {},
   "source": [
    "### Create and set properties\n"
   ]
  },
  {
   "cell_type": "code",
   "execution_count": 253,
   "id": "8569d39b",
   "metadata": {},
   "outputs": [
    {
     "ename": "ValueError",
     "evalue": "Invalid Balance!",
     "output_type": "error",
     "traceback": [
      "\u001b[0;31m---------------------------------------------------------------------------\u001b[0m",
      "\u001b[0;31mValueError\u001b[0m                                Traceback (most recent call last)",
      "\u001b[0;32m/var/folders/4n/dll6nv094h5fm4m2lhzkmtd40000gn/T/ipykernel_86751/3469078886.py\u001b[0m in \u001b[0;36m<module>\u001b[0;34m\u001b[0m\n\u001b[1;32m     16\u001b[0m             \u001b[0mself\u001b[0m\u001b[0;34m.\u001b[0m\u001b[0m_balance\u001b[0m \u001b[0;34m=\u001b[0m \u001b[0mnew_bal\u001b[0m\u001b[0;34m\u001b[0m\u001b[0;34m\u001b[0m\u001b[0m\n\u001b[1;32m     17\u001b[0m \u001b[0;34m\u001b[0m\u001b[0m\n\u001b[0;32m---> 18\u001b[0;31m \u001b[0mCustomer\u001b[0m\u001b[0;34m(\u001b[0m\u001b[0;34m'test'\u001b[0m\u001b[0;34m,\u001b[0m \u001b[0;36m1000\u001b[0m\u001b[0;34m)\u001b[0m\u001b[0;34m.\u001b[0m\u001b[0mbalance\u001b[0m \u001b[0;34m=\u001b[0m \u001b[0;34m-\u001b[0m\u001b[0;36m1000\u001b[0m\u001b[0;34m\u001b[0m\u001b[0;34m\u001b[0m\u001b[0m\n\u001b[0m",
      "\u001b[0;32m/var/folders/4n/dll6nv094h5fm4m2lhzkmtd40000gn/T/ipykernel_86751/3469078886.py\u001b[0m in \u001b[0;36mbalance\u001b[0;34m(self, new_bal)\u001b[0m\n\u001b[1;32m     12\u001b[0m     \u001b[0;32mdef\u001b[0m \u001b[0mbalance\u001b[0m\u001b[0;34m(\u001b[0m\u001b[0mself\u001b[0m\u001b[0;34m,\u001b[0m \u001b[0mnew_bal\u001b[0m\u001b[0;34m)\u001b[0m\u001b[0;34m:\u001b[0m\u001b[0;34m\u001b[0m\u001b[0;34m\u001b[0m\u001b[0m\n\u001b[1;32m     13\u001b[0m         \u001b[0;32mif\u001b[0m \u001b[0mnew_bal\u001b[0m \u001b[0;34m<\u001b[0m \u001b[0;36m0\u001b[0m\u001b[0;34m:\u001b[0m\u001b[0;34m\u001b[0m\u001b[0;34m\u001b[0m\u001b[0m\n\u001b[0;32m---> 14\u001b[0;31m             \u001b[0;32mraise\u001b[0m \u001b[0mValueError\u001b[0m\u001b[0;34m(\u001b[0m\u001b[0;34m\"Invalid Balance!\"\u001b[0m\u001b[0;34m)\u001b[0m\u001b[0;34m\u001b[0m\u001b[0;34m\u001b[0m\u001b[0m\n\u001b[0m\u001b[1;32m     15\u001b[0m \u001b[0;34m\u001b[0m\u001b[0m\n\u001b[1;32m     16\u001b[0m             \u001b[0mself\u001b[0m\u001b[0;34m.\u001b[0m\u001b[0m_balance\u001b[0m \u001b[0;34m=\u001b[0m \u001b[0mnew_bal\u001b[0m\u001b[0;34m\u001b[0m\u001b[0;34m\u001b[0m\u001b[0m\n",
      "\u001b[0;31mValueError\u001b[0m: Invalid Balance!"
     ]
    }
   ],
   "source": [
    "# Create a Customer class\n",
    "class Customer:\n",
    "    def __init__(self, name, new_bal):\n",
    "        self.name = name\n",
    "        self._balance = new_bal\n",
    "    \n",
    "    @property \n",
    "    def balance(self):\n",
    "        return self._balance\n",
    "    \n",
    "    @balance.setter\n",
    "    def balance(self, new_bal):\n",
    "        if new_bal < 0:\n",
    "            raise ValueError(\"Invalid Balance!\")\n",
    "            \n",
    "            self._balance = new_bal\n",
    "            \n",
    "Customer('test', 1000).balance = -1000"
   ]
  },
  {
   "cell_type": "code",
   "execution_count": 255,
   "id": "2f20bd35",
   "metadata": {},
   "outputs": [],
   "source": [
    "class Customer:\n",
    "    def __init__(self, name, new_bal):\n",
    "        self.name = name\n",
    "        if new_bal < 0:\n",
    "           raise ValueError(\"Invalid balance!\")\n",
    "        self._balance = new_bal  \n",
    "\n",
    "    # Add a decorated balance() method returning _balance        \n",
    "    @property\n",
    "    def balance(self):\n",
    "        return self._balance\n",
    "\n",
    "    # Add a setter balance() method\n",
    "    @balance.setter\n",
    "    def balance(self, new_bal):\n",
    "        # Validate the parameter value\n",
    "        if new_bal < 0:\n",
    "           raise ValueError(\"Invalid balance!\")\n",
    "        self._balance = new_bal\n",
    "        print(\"Setter method called\")"
   ]
  },
  {
   "cell_type": "code",
   "execution_count": 256,
   "id": "9e7c9178",
   "metadata": {},
   "outputs": [
    {
     "name": "stdout",
     "output_type": "stream",
     "text": [
      "Setter method called\n",
      "3000\n"
     ]
    }
   ],
   "source": [
    "# Create a Customer        \n",
    "cust = Customer(\"Belinda Lutz\", 2000)\n",
    "\n",
    "# Assign 3000 to the balance property\n",
    "cust.balance = 3000\n",
    "\n",
    "# Print the balance property\n",
    "print(cust.balance)"
   ]
  },
  {
   "cell_type": "markdown",
   "id": "90ad285a",
   "metadata": {},
   "source": [
    "### Read-only properties\n"
   ]
  },
  {
   "cell_type": "code",
   "execution_count": 257,
   "id": "3e2092d4",
   "metadata": {},
   "outputs": [
    {
     "name": "stdout",
     "output_type": "stream",
     "text": [
      "2035-07-13\n"
     ]
    }
   ],
   "source": [
    "import pandas as pd\n",
    "from datetime import datetime\n",
    "\n",
    "# LoggedDF class definition from Chapter 2\n",
    "class LoggedDF(pd.DataFrame):\n",
    "    def __init__(self, *args, **kwargs):\n",
    "        pd.DataFrame.__init__(self, *args, **kwargs)\n",
    "        self.created_at = datetime.today()\n",
    "\n",
    "    def to_csv(self, *args, **kwargs):\n",
    "        temp = self.copy()\n",
    "        temp[\"created_at\"] = self.created_at\n",
    "        pd.DataFrame.to_csv(temp, *args, **kwargs)   \n",
    "\n",
    "# Instantiate a LoggedDF called ldf\n",
    "ldf = LoggedDF({\"col1\": [1,2], \"col2\":[3,4]}) \n",
    "\n",
    "# Assign a new value to ldf's created_at attribute and print\n",
    "ldf.created_at = '2035-07-13'\n",
    "print(ldf.created_at)"
   ]
  },
  {
   "cell_type": "code",
   "execution_count": 258,
   "id": "94e0fcb9",
   "metadata": {},
   "outputs": [],
   "source": [
    "import pandas as pd\n",
    "from datetime import datetime\n",
    "\n",
    "# MODIFY the class to use _created_at instead of created_at\n",
    "class LoggedDF(pd.DataFrame):\n",
    "    def __init__(self, *args, **kwargs):\n",
    "        pd.DataFrame.__init__(self, *args, **kwargs)\n",
    "        self._created_at = datetime.today()\n",
    "    \n",
    "    def to_csv(self, *args, **kwargs):\n",
    "        temp = self.copy()\n",
    "        temp[\"created_at\"] = self._created_at\n",
    "        pd.DataFrame.to_csv(temp, *args, **kwargs)   \n",
    "    \n",
    "    # Add a read-only property: _created_at\n",
    "    @property\n",
    "    def created_at(self):\n",
    "        return self._created_at\n",
    "\n",
    "# Instantiate a LoggedDF called ldf\n",
    "ldf = LoggedDF({\"col1\": [1,2], \"col2\":[3,4]}) "
   ]
  },
  {
   "cell_type": "code",
   "execution_count": 259,
   "id": "d40dc9f7",
   "metadata": {},
   "outputs": [
    {
     "ename": "AttributeError",
     "evalue": "can't set attribute",
     "output_type": "error",
     "traceback": [
      "\u001b[0;31m---------------------------------------------------------------------------\u001b[0m",
      "\u001b[0;31mAttributeError\u001b[0m                            Traceback (most recent call last)",
      "\u001b[0;32m/opt/miniconda3/lib/python3.9/site-packages/pandas/core/generic.py\u001b[0m in \u001b[0;36m__setattr__\u001b[0;34m(self, name, value)\u001b[0m\n\u001b[1;32m   5613\u001b[0m                 \u001b[0;32melse\u001b[0m\u001b[0;34m:\u001b[0m\u001b[0;34m\u001b[0m\u001b[0;34m\u001b[0m\u001b[0m\n\u001b[0;32m-> 5614\u001b[0;31m                     \u001b[0mobject\u001b[0m\u001b[0;34m.\u001b[0m\u001b[0m__setattr__\u001b[0m\u001b[0;34m(\u001b[0m\u001b[0mself\u001b[0m\u001b[0;34m,\u001b[0m \u001b[0mname\u001b[0m\u001b[0;34m,\u001b[0m \u001b[0mvalue\u001b[0m\u001b[0;34m)\u001b[0m\u001b[0;34m\u001b[0m\u001b[0;34m\u001b[0m\u001b[0m\n\u001b[0m\u001b[1;32m   5615\u001b[0m             \u001b[0;32mexcept\u001b[0m \u001b[0;34m(\u001b[0m\u001b[0mAttributeError\u001b[0m\u001b[0;34m,\u001b[0m \u001b[0mTypeError\u001b[0m\u001b[0;34m)\u001b[0m\u001b[0;34m:\u001b[0m\u001b[0;34m\u001b[0m\u001b[0;34m\u001b[0m\u001b[0m\n",
      "\u001b[0;31mAttributeError\u001b[0m: can't set attribute",
      "\nDuring handling of the above exception, another exception occurred:\n",
      "\u001b[0;31mAttributeError\u001b[0m                            Traceback (most recent call last)",
      "\u001b[0;32m/var/folders/4n/dll6nv094h5fm4m2lhzkmtd40000gn/T/ipykernel_86751/755803171.py\u001b[0m in \u001b[0;36m<module>\u001b[0;34m\u001b[0m\n\u001b[0;32m----> 1\u001b[0;31m \u001b[0mldf\u001b[0m\u001b[0;34m.\u001b[0m\u001b[0mcreated_at\u001b[0m \u001b[0;34m=\u001b[0m \u001b[0;34m'2035-07-13'\u001b[0m\u001b[0;34m\u001b[0m\u001b[0;34m\u001b[0m\u001b[0m\n\u001b[0m",
      "\u001b[0;32m/opt/miniconda3/lib/python3.9/site-packages/pandas/core/generic.py\u001b[0m in \u001b[0;36m__setattr__\u001b[0;34m(self, name, value)\u001b[0m\n\u001b[1;32m   5622\u001b[0m                         \u001b[0mstacklevel\u001b[0m\u001b[0;34m=\u001b[0m\u001b[0mfind_stack_level\u001b[0m\u001b[0;34m(\u001b[0m\u001b[0;34m)\u001b[0m\u001b[0;34m,\u001b[0m\u001b[0;34m\u001b[0m\u001b[0;34m\u001b[0m\u001b[0m\n\u001b[1;32m   5623\u001b[0m                     )\n\u001b[0;32m-> 5624\u001b[0;31m                 \u001b[0mobject\u001b[0m\u001b[0;34m.\u001b[0m\u001b[0m__setattr__\u001b[0m\u001b[0;34m(\u001b[0m\u001b[0mself\u001b[0m\u001b[0;34m,\u001b[0m \u001b[0mname\u001b[0m\u001b[0;34m,\u001b[0m \u001b[0mvalue\u001b[0m\u001b[0;34m)\u001b[0m\u001b[0;34m\u001b[0m\u001b[0;34m\u001b[0m\u001b[0m\n\u001b[0m\u001b[1;32m   5625\u001b[0m \u001b[0;34m\u001b[0m\u001b[0m\n\u001b[1;32m   5626\u001b[0m     \u001b[0;34m@\u001b[0m\u001b[0mfinal\u001b[0m\u001b[0;34m\u001b[0m\u001b[0;34m\u001b[0m\u001b[0m\n",
      "\u001b[0;31mAttributeError\u001b[0m: can't set attribute"
     ]
    }
   ],
   "source": [
    "ldf.created_at = '2035-07-13'"
   ]
  },
  {
   "cell_type": "markdown",
   "id": "e7950960",
   "metadata": {},
   "source": [
    "> An AttributeError is thrown since ldf.created_at is read-only."
   ]
  }
 ],
 "metadata": {
  "kernelspec": {
   "display_name": "Python 3 (ipykernel)",
   "language": "python",
   "name": "python3"
  },
  "language_info": {
   "codemirror_mode": {
    "name": "ipython",
    "version": 3
   },
   "file_extension": ".py",
   "mimetype": "text/x-python",
   "name": "python",
   "nbconvert_exporter": "python",
   "pygments_lexer": "ipython3",
   "version": "3.9.7"
  }
 },
 "nbformat": 4,
 "nbformat_minor": 5
}
